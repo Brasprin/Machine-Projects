{
 "cells": [
  {
   "cell_type": "markdown",
   "id": "0976a88f",
   "metadata": {
    "id": "0976a88f"
   },
   "source": [
    "# CSMODEL S16 MCO1\n",
    "\n",
    "### Group 12 Members:\n",
    "- ALBARRACIN, CLARISSA MAMUYAC\n",
    "- CAPOTE, MARY GRACE SAN PEDRO\n",
    "- RESURRECCION, ALJIRAH BRENDL YUTAN\n",
    "- TAMSE, ANDREI GONZALES"
   ]
  },
  {
   "cell_type": "markdown",
   "id": "ac44f1cc-1387-4569-b0b6-45cc7ab4a7c8",
   "metadata": {
    "id": "ac44f1cc-1387-4569-b0b6-45cc7ab4a7c8"
   },
   "source": [
    "The dataset used is [Salaries of Different Data Science Fields in the Data Science Domain](https://www.kaggle.com/datasets/arnabchaki/data-science-salaries-2023/data) and obtained from Kaggle that covers data science salaries from 2020 to 2023. It provides data such as work experience, employment type, job titles, and salaries. Our goal is to explore this dataset and gain insights using data modeling techniques.\n",
    "\n",
    "\n",
    "Collection Process: Data has been sourced from aijobs.net in April 2023 in https://ai-jobs.net/salaries/  Checking the website, it is internally aggregated from the offered salaries in the job listing along with user reported salaries.\n",
    "The most recent update is within the ai-jobs.net website, that includes 2024.\n",
    "\n",
    "Possible Implications of Data Collection Method: The dataset focuses primarily on the United States' salaries in the Data Science domain. This factor may lead to inaccurate conclusions as not all countries are distributed properly. It is unclear whether or not the salaries shown are adjusted for inflation; potentially giving inaccurate salary amounts. Lastly, because the data collection includes self-reported salaries, there is a possibility of false reports, which could render some data invalid."
   ]
  },
  {
   "cell_type": "markdown",
   "id": "ae7d35ee",
   "metadata": {},
   "source": [
    "## Imported Libraries"
   ]
  },
  {
   "cell_type": "code",
   "execution_count": 1,
   "id": "73379c96",
   "metadata": {},
   "outputs": [
    {
     "name": "stdout",
     "output_type": "stream",
     "text": [
      "Requirement already satisfied: pingouin in /opt/anaconda3/lib/python3.11/site-packages (0.5.4)\n",
      "Requirement already satisfied: numpy in /opt/anaconda3/lib/python3.11/site-packages (from pingouin) (1.26.4)\n",
      "Requirement already satisfied: scipy in /opt/anaconda3/lib/python3.11/site-packages (from pingouin) (1.11.4)\n",
      "Requirement already satisfied: pandas>=1.5 in /opt/anaconda3/lib/python3.11/site-packages (from pingouin) (2.1.4)\n",
      "Requirement already satisfied: matplotlib in /opt/anaconda3/lib/python3.11/site-packages (from pingouin) (3.8.0)\n",
      "Requirement already satisfied: seaborn in /opt/anaconda3/lib/python3.11/site-packages (from pingouin) (0.12.2)\n",
      "Requirement already satisfied: statsmodels in /opt/anaconda3/lib/python3.11/site-packages (from pingouin) (0.14.0)\n",
      "Requirement already satisfied: scikit-learn in /opt/anaconda3/lib/python3.11/site-packages (from pingouin) (1.2.2)\n",
      "Requirement already satisfied: pandas-flavor in /opt/anaconda3/lib/python3.11/site-packages (from pingouin) (0.6.0)\n",
      "Requirement already satisfied: tabulate in /opt/anaconda3/lib/python3.11/site-packages (from pingouin) (0.9.0)\n",
      "Requirement already satisfied: python-dateutil>=2.8.2 in /opt/anaconda3/lib/python3.11/site-packages (from pandas>=1.5->pingouin) (2.8.2)\n",
      "Requirement already satisfied: pytz>=2020.1 in /opt/anaconda3/lib/python3.11/site-packages (from pandas>=1.5->pingouin) (2023.3.post1)\n",
      "Requirement already satisfied: tzdata>=2022.1 in /opt/anaconda3/lib/python3.11/site-packages (from pandas>=1.5->pingouin) (2023.3)\n",
      "Requirement already satisfied: contourpy>=1.0.1 in /opt/anaconda3/lib/python3.11/site-packages (from matplotlib->pingouin) (1.2.0)\n",
      "Requirement already satisfied: cycler>=0.10 in /opt/anaconda3/lib/python3.11/site-packages (from matplotlib->pingouin) (0.11.0)\n",
      "Requirement already satisfied: fonttools>=4.22.0 in /opt/anaconda3/lib/python3.11/site-packages (from matplotlib->pingouin) (4.25.0)\n",
      "Requirement already satisfied: kiwisolver>=1.0.1 in /opt/anaconda3/lib/python3.11/site-packages (from matplotlib->pingouin) (1.4.4)\n",
      "Requirement already satisfied: packaging>=20.0 in /opt/anaconda3/lib/python3.11/site-packages (from matplotlib->pingouin) (23.1)\n",
      "Requirement already satisfied: pillow>=6.2.0 in /opt/anaconda3/lib/python3.11/site-packages (from matplotlib->pingouin) (10.2.0)\n",
      "Requirement already satisfied: pyparsing>=2.3.1 in /opt/anaconda3/lib/python3.11/site-packages (from matplotlib->pingouin) (3.0.9)\n",
      "Requirement already satisfied: xarray in /opt/anaconda3/lib/python3.11/site-packages (from pandas-flavor->pingouin) (2023.6.0)\n",
      "Requirement already satisfied: joblib>=1.1.1 in /opt/anaconda3/lib/python3.11/site-packages (from scikit-learn->pingouin) (1.2.0)\n",
      "Requirement already satisfied: threadpoolctl>=2.0.0 in /opt/anaconda3/lib/python3.11/site-packages (from scikit-learn->pingouin) (2.2.0)\n",
      "Requirement already satisfied: patsy>=0.5.2 in /opt/anaconda3/lib/python3.11/site-packages (from statsmodels->pingouin) (0.5.3)\n",
      "Requirement already satisfied: six in /opt/anaconda3/lib/python3.11/site-packages (from patsy>=0.5.2->statsmodels->pingouin) (1.16.0)\n",
      "Note: you may need to restart the kernel to use updated packages.\n",
      "Requirement already satisfied: mlxtend in /opt/anaconda3/lib/python3.11/site-packages (0.23.1)\n",
      "Requirement already satisfied: scipy>=1.2.1 in /opt/anaconda3/lib/python3.11/site-packages (from mlxtend) (1.11.4)\n",
      "Requirement already satisfied: numpy>=1.16.2 in /opt/anaconda3/lib/python3.11/site-packages (from mlxtend) (1.26.4)\n",
      "Requirement already satisfied: pandas>=0.24.2 in /opt/anaconda3/lib/python3.11/site-packages (from mlxtend) (2.1.4)\n",
      "Requirement already satisfied: scikit-learn>=1.0.2 in /opt/anaconda3/lib/python3.11/site-packages (from mlxtend) (1.2.2)\n",
      "Requirement already satisfied: matplotlib>=3.0.0 in /opt/anaconda3/lib/python3.11/site-packages (from mlxtend) (3.8.0)\n",
      "Requirement already satisfied: joblib>=0.13.2 in /opt/anaconda3/lib/python3.11/site-packages (from mlxtend) (1.2.0)\n",
      "Requirement already satisfied: contourpy>=1.0.1 in /opt/anaconda3/lib/python3.11/site-packages (from matplotlib>=3.0.0->mlxtend) (1.2.0)\n",
      "Requirement already satisfied: cycler>=0.10 in /opt/anaconda3/lib/python3.11/site-packages (from matplotlib>=3.0.0->mlxtend) (0.11.0)\n",
      "Requirement already satisfied: fonttools>=4.22.0 in /opt/anaconda3/lib/python3.11/site-packages (from matplotlib>=3.0.0->mlxtend) (4.25.0)\n",
      "Requirement already satisfied: kiwisolver>=1.0.1 in /opt/anaconda3/lib/python3.11/site-packages (from matplotlib>=3.0.0->mlxtend) (1.4.4)\n",
      "Requirement already satisfied: packaging>=20.0 in /opt/anaconda3/lib/python3.11/site-packages (from matplotlib>=3.0.0->mlxtend) (23.1)\n",
      "Requirement already satisfied: pillow>=6.2.0 in /opt/anaconda3/lib/python3.11/site-packages (from matplotlib>=3.0.0->mlxtend) (10.2.0)\n",
      "Requirement already satisfied: pyparsing>=2.3.1 in /opt/anaconda3/lib/python3.11/site-packages (from matplotlib>=3.0.0->mlxtend) (3.0.9)\n",
      "Requirement already satisfied: python-dateutil>=2.7 in /opt/anaconda3/lib/python3.11/site-packages (from matplotlib>=3.0.0->mlxtend) (2.8.2)\n",
      "Requirement already satisfied: pytz>=2020.1 in /opt/anaconda3/lib/python3.11/site-packages (from pandas>=0.24.2->mlxtend) (2023.3.post1)\n",
      "Requirement already satisfied: tzdata>=2022.1 in /opt/anaconda3/lib/python3.11/site-packages (from pandas>=0.24.2->mlxtend) (2023.3)\n",
      "Requirement already satisfied: threadpoolctl>=2.0.0 in /opt/anaconda3/lib/python3.11/site-packages (from scikit-learn>=1.0.2->mlxtend) (2.2.0)\n",
      "Requirement already satisfied: six>=1.5 in /opt/anaconda3/lib/python3.11/site-packages (from python-dateutil>=2.7->matplotlib>=3.0.0->mlxtend) (1.16.0)\n",
      "Note: you may need to restart the kernel to use updated packages.\n"
     ]
    }
   ],
   "source": [
    "%pip install pingouin\n",
    "%pip install mlxtend"
   ]
  },
  {
   "cell_type": "code",
   "execution_count": 2,
   "id": "80de11e2-18a2-40ab-868a-dbd04bb6bb1d",
   "metadata": {
    "id": "80de11e2-18a2-40ab-868a-dbd04bb6bb1d"
   },
   "outputs": [],
   "source": [
    "import numpy as np\n",
    "import pandas as pd\n",
    "import matplotlib.pyplot as plt\n",
    "import matplotlib.patches as mpatches\n",
    "import seaborn as sns\n",
    "from collections import Counter\n",
    "from tabulate import tabulate\n",
    "from scipy.stats import skew, shapiro, levene, f_oneway, kruskal\n",
    "from mlxtend.frequent_patterns import apriori\n",
    "from mlxtend.frequent_patterns import association_rules\n",
    "from sklearn.utils import resample\n",
    "import pingouin as pg\n"
   ]
  },
  {
   "cell_type": "markdown",
   "id": "cfa26deb-5b82-42d9-9531-06a3863bd5ff",
   "metadata": {
    "id": "cfa26deb-5b82-42d9-9531-06a3863bd5ff"
   },
   "source": [
    "## Read Dataset"
   ]
  },
  {
   "cell_type": "code",
   "execution_count": 3,
   "id": "8e434890-3297-40ef-a9a6-f635b4ac4b98",
   "metadata": {
    "colab": {
     "base_uri": "https://localhost:8080/",
     "height": 330
    },
    "id": "8e434890-3297-40ef-a9a6-f635b4ac4b98",
    "outputId": "2cd641fa-dad6-4a5e-c648-bf9983fe5267"
   },
   "outputs": [
    {
     "data": {
      "text/html": [
       "<div>\n",
       "<style scoped>\n",
       "    .dataframe tbody tr th:only-of-type {\n",
       "        vertical-align: middle;\n",
       "    }\n",
       "\n",
       "    .dataframe tbody tr th {\n",
       "        vertical-align: top;\n",
       "    }\n",
       "\n",
       "    .dataframe thead th {\n",
       "        text-align: right;\n",
       "    }\n",
       "</style>\n",
       "<table border=\"1\" class=\"dataframe\">\n",
       "  <thead>\n",
       "    <tr style=\"text-align: right;\">\n",
       "      <th></th>\n",
       "      <th>work_year</th>\n",
       "      <th>experience_level</th>\n",
       "      <th>employment_type</th>\n",
       "      <th>job_title</th>\n",
       "      <th>salary</th>\n",
       "      <th>salary_currency</th>\n",
       "      <th>salary_in_usd</th>\n",
       "      <th>employee_residence</th>\n",
       "      <th>remote_ratio</th>\n",
       "      <th>company_location</th>\n",
       "      <th>company_size</th>\n",
       "    </tr>\n",
       "  </thead>\n",
       "  <tbody>\n",
       "    <tr>\n",
       "      <th>0</th>\n",
       "      <td>2023</td>\n",
       "      <td>SE</td>\n",
       "      <td>FT</td>\n",
       "      <td>Principal Data Scientist</td>\n",
       "      <td>80000</td>\n",
       "      <td>EUR</td>\n",
       "      <td>85847</td>\n",
       "      <td>ES</td>\n",
       "      <td>100</td>\n",
       "      <td>ES</td>\n",
       "      <td>L</td>\n",
       "    </tr>\n",
       "    <tr>\n",
       "      <th>1</th>\n",
       "      <td>2023</td>\n",
       "      <td>MI</td>\n",
       "      <td>CT</td>\n",
       "      <td>ML Engineer</td>\n",
       "      <td>30000</td>\n",
       "      <td>USD</td>\n",
       "      <td>30000</td>\n",
       "      <td>US</td>\n",
       "      <td>100</td>\n",
       "      <td>US</td>\n",
       "      <td>S</td>\n",
       "    </tr>\n",
       "    <tr>\n",
       "      <th>2</th>\n",
       "      <td>2023</td>\n",
       "      <td>MI</td>\n",
       "      <td>CT</td>\n",
       "      <td>ML Engineer</td>\n",
       "      <td>25500</td>\n",
       "      <td>USD</td>\n",
       "      <td>25500</td>\n",
       "      <td>US</td>\n",
       "      <td>100</td>\n",
       "      <td>US</td>\n",
       "      <td>S</td>\n",
       "    </tr>\n",
       "    <tr>\n",
       "      <th>3</th>\n",
       "      <td>2023</td>\n",
       "      <td>SE</td>\n",
       "      <td>FT</td>\n",
       "      <td>Data Scientist</td>\n",
       "      <td>175000</td>\n",
       "      <td>USD</td>\n",
       "      <td>175000</td>\n",
       "      <td>CA</td>\n",
       "      <td>100</td>\n",
       "      <td>CA</td>\n",
       "      <td>M</td>\n",
       "    </tr>\n",
       "    <tr>\n",
       "      <th>4</th>\n",
       "      <td>2023</td>\n",
       "      <td>SE</td>\n",
       "      <td>FT</td>\n",
       "      <td>Data Scientist</td>\n",
       "      <td>120000</td>\n",
       "      <td>USD</td>\n",
       "      <td>120000</td>\n",
       "      <td>CA</td>\n",
       "      <td>100</td>\n",
       "      <td>CA</td>\n",
       "      <td>M</td>\n",
       "    </tr>\n",
       "  </tbody>\n",
       "</table>\n",
       "</div>"
      ],
      "text/plain": [
       "   work_year experience_level employment_type                 job_title  \\\n",
       "0       2023               SE              FT  Principal Data Scientist   \n",
       "1       2023               MI              CT               ML Engineer   \n",
       "2       2023               MI              CT               ML Engineer   \n",
       "3       2023               SE              FT            Data Scientist   \n",
       "4       2023               SE              FT            Data Scientist   \n",
       "\n",
       "   salary salary_currency  salary_in_usd employee_residence  remote_ratio  \\\n",
       "0   80000             EUR          85847                 ES           100   \n",
       "1   30000             USD          30000                 US           100   \n",
       "2   25500             USD          25500                 US           100   \n",
       "3  175000             USD         175000                 CA           100   \n",
       "4  120000             USD         120000                 CA           100   \n",
       "\n",
       "  company_location company_size  \n",
       "0               ES            L  \n",
       "1               US            S  \n",
       "2               US            S  \n",
       "3               CA            M  \n",
       "4               CA            M  "
      ]
     },
     "execution_count": 3,
     "metadata": {},
     "output_type": "execute_result"
    }
   ],
   "source": [
    "ds_salary_df = pd.read_csv(\"ds_salaries.csv\")\n",
    "ds_salary_df.head()"
   ]
  },
  {
   "cell_type": "code",
   "execution_count": 4,
   "id": "ef1cf0d5",
   "metadata": {
    "colab": {
     "base_uri": "https://localhost:8080/"
    },
    "id": "ef1cf0d5",
    "outputId": "60d704a2-9228-4899-d2af-fe73a75e91bc"
   },
   "outputs": [
    {
     "name": "stdout",
     "output_type": "stream",
     "text": [
      "<class 'pandas.core.frame.DataFrame'>\n",
      "RangeIndex: 3755 entries, 0 to 3754\n",
      "Data columns (total 11 columns):\n",
      " #   Column              Non-Null Count  Dtype \n",
      "---  ------              --------------  ----- \n",
      " 0   work_year           3755 non-null   int64 \n",
      " 1   experience_level    3755 non-null   object\n",
      " 2   employment_type     3755 non-null   object\n",
      " 3   job_title           3755 non-null   object\n",
      " 4   salary              3755 non-null   int64 \n",
      " 5   salary_currency     3755 non-null   object\n",
      " 6   salary_in_usd       3755 non-null   int64 \n",
      " 7   employee_residence  3755 non-null   object\n",
      " 8   remote_ratio        3755 non-null   int64 \n",
      " 9   company_location    3755 non-null   object\n",
      " 10  company_size        3755 non-null   object\n",
      "dtypes: int64(4), object(7)\n",
      "memory usage: 322.8+ KB\n"
     ]
    }
   ],
   "source": [
    "ds_salary_df.info()"
   ]
  },
  {
   "cell_type": "markdown",
   "id": "ba9acc6d",
   "metadata": {
    "id": "ba9acc6d"
   },
   "source": [
    "1. All data types are correct.\n",
    "2. There are no missing values (null values) present in the dataset."
   ]
  },
  {
   "cell_type": "markdown",
   "id": "233b8089-5297-4d0e-acf5-a5c94f88f4a8",
   "metadata": {
    "id": "233b8089-5297-4d0e-acf5-a5c94f88f4a8"
   },
   "source": [
    "# Dataset Columns and Descriptions\n",
    "\n",
    "| Column Name        | Description                                                  |\n",
    "|--------------------|--------------------------------------------------------------|\n",
    "| work_year          | The year the salary was paid.                                |\n",
    "| experience_level   | The experience level in the job during the year with possible values: EN (Entry-level / Junior), MI (Mid-level / Intermediate), SE (Senior-level / Expert), EX (Executive-level / Director). |\n",
    "| employment_type    | The type of employment for the role with possible values: PT (Part-time), FT (Full-time), CT (Contract), FL (Freelance). |\n",
    "| job_title          | The role worked in during the year.                          |\n",
    "| salary             | The total gross salary amount paid. No currency attached.    |\n",
    "| salary_currency    | The currency of the salary paid as an ISO 4217 currency code.|\n",
    "| salary_in_usd      | The salary in USD, calculated using statistical data from the BIS and central banks. |\n",
    "| employee_residence | Employee's primary country of residence during the work year as an ISO 3166 country code. |\n",
    "| remote_ratio       | The overall amount of work done remotely with possible values: 0 (No remote work), 50 (Partially remote/hybrid), 100 (Fully remote). |\n",
    "| company_location   | The country of the employer's main office or contracting branch as an ISO 3166 country code. |\n",
    "| company_size       | The average number of people that worked for the company during the year with possible values: S (less than 50 employees), M (50 to 250 employees), L (more than 250 employees). |\n"
   ]
  },
  {
   "cell_type": "code",
   "execution_count": 5,
   "id": "ed187caa",
   "metadata": {
    "colab": {
     "base_uri": "https://localhost:8080/"
    },
    "id": "ed187caa",
    "outputId": "5f53a845-8bcd-42db-cde8-722e2323be26"
   },
   "outputs": [
    {
     "name": "stdout",
     "output_type": "stream",
     "text": [
      "Number of observations: 3755\n",
      "Number of variables: 11\n"
     ]
    }
   ],
   "source": [
    "observation_count, variables_count = ds_salary_df.shape\n",
    "\n",
    "print(\"Number of observations:\", observation_count)\n",
    "print(\"Number of variables:\", variables_count)"
   ]
  },
  {
   "cell_type": "markdown",
   "id": "9e661008-67cb-4c9c-9833-008deddb1a69",
   "metadata": {
    "id": "9e661008-67cb-4c9c-9833-008deddb1a69"
   },
   "source": [
    "## Dataset Cleaning"
   ]
  },
  {
   "cell_type": "code",
   "execution_count": 6,
   "id": "cfa0e74e-6501-4abf-aacd-aaa4a67f4a8a",
   "metadata": {
    "colab": {
     "base_uri": "https://localhost:8080/"
    },
    "id": "cfa0e74e-6501-4abf-aacd-aaa4a67f4a8a",
    "outputId": "210642bd-0fbe-4e93-eba9-67d00bc7cbde"
   },
   "outputs": [
    {
     "name": "stdout",
     "output_type": "stream",
     "text": [
      "Unique values in column 'work_year': [2023 2022 2020 2021]\n",
      "Unique values in column 'experience_level': ['SE' 'MI' 'EN' 'EX']\n",
      "Unique values in column 'employment_type': ['FT' 'CT' 'FL' 'PT']\n",
      "Unique values in column 'job_title': ['Principal Data Scientist' 'ML Engineer' 'Data Scientist'\n",
      " 'Applied Scientist' 'Data Analyst' 'Data Modeler' 'Research Engineer'\n",
      " 'Analytics Engineer' 'Business Intelligence Engineer'\n",
      " 'Machine Learning Engineer' 'Data Strategist' 'Data Engineer'\n",
      " 'Computer Vision Engineer' 'Data Quality Analyst'\n",
      " 'Compliance Data Analyst' 'Data Architect'\n",
      " 'Applied Machine Learning Engineer' 'AI Developer' 'Research Scientist'\n",
      " 'Data Analytics Manager' 'Business Data Analyst' 'Applied Data Scientist'\n",
      " 'Staff Data Analyst' 'ETL Engineer' 'Data DevOps Engineer' 'Head of Data'\n",
      " 'Data Science Manager' 'Data Manager' 'Machine Learning Researcher'\n",
      " 'Big Data Engineer' 'Data Specialist' 'Lead Data Analyst'\n",
      " 'BI Data Engineer' 'Director of Data Science'\n",
      " 'Machine Learning Scientist' 'MLOps Engineer' 'AI Scientist'\n",
      " 'Autonomous Vehicle Technician' 'Applied Machine Learning Scientist'\n",
      " 'Lead Data Scientist' 'Cloud Database Engineer' 'Financial Data Analyst'\n",
      " 'Data Infrastructure Engineer' 'Software Data Engineer' 'AI Programmer'\n",
      " 'Data Operations Engineer' 'BI Developer' 'Data Science Lead'\n",
      " 'Deep Learning Researcher' 'BI Analyst' 'Data Science Consultant'\n",
      " 'Data Analytics Specialist' 'Machine Learning Infrastructure Engineer'\n",
      " 'BI Data Analyst' 'Head of Data Science' 'Insight Analyst'\n",
      " 'Deep Learning Engineer' 'Machine Learning Software Engineer'\n",
      " 'Big Data Architect' 'Product Data Analyst'\n",
      " 'Computer Vision Software Engineer' 'Azure Data Engineer'\n",
      " 'Marketing Data Engineer' 'Data Analytics Lead' 'Data Lead'\n",
      " 'Data Science Engineer' 'Machine Learning Research Engineer'\n",
      " 'NLP Engineer' 'Manager Data Management' 'Machine Learning Developer'\n",
      " '3D Computer Vision Researcher' 'Principal Machine Learning Engineer'\n",
      " 'Data Analytics Engineer' 'Data Analytics Consultant'\n",
      " 'Data Management Specialist' 'Data Science Tech Lead'\n",
      " 'Data Scientist Lead' 'Cloud Data Engineer' 'Data Operations Analyst'\n",
      " 'Marketing Data Analyst' 'Power BI Developer' 'Product Data Scientist'\n",
      " 'Principal Data Architect' 'Machine Learning Manager'\n",
      " 'Lead Machine Learning Engineer' 'ETL Developer' 'Cloud Data Architect'\n",
      " 'Lead Data Engineer' 'Head of Machine Learning' 'Principal Data Analyst'\n",
      " 'Principal Data Engineer' 'Staff Data Scientist' 'Finance Data Analyst']\n",
      "Unique values in column 'salary': [   80000    30000    25500   175000   120000   222200   136000   219000\n",
      "   141000   147100    90700   130000   100000   213660   130760   170000\n",
      "   150000   110000   275000   174000   230000   143200   225000   156400\n",
      "   200000    90000    72000   253200   342810   184590   162500   105380\n",
      "    64500  1650000   204620   110680   270703   221484   212750   185000\n",
      "   262000   245000   275300   183500   218500   199098   203300   123600\n",
      "   189110   139000   258750   231500   166000   172500   110500   238000\n",
      "   176000   237000   201450   309400   159100   115000    81500   280000\n",
      "   210000   280100   168100   193500   510000    65000   300000   185900\n",
      "   129300   140000    45000    36000   105000    70000   163196   145885\n",
      "   217000   202800   104300   145000   165000   132300   179170    94300\n",
      "   152500   116450   247300   133800   203000   133000   220000    54000\n",
      "   289800   214000   179820   143860   283200   188800   214200   252000\n",
      "   129000   155000   161800   141600   342300   176100    85000   138784\n",
      "    83270    75000   204500   138900   318300   212200    95000   195000\n",
      "   160000  1700000    38000    35000   168400   105200   190000   241000\n",
      "    55000    15000    47500   250000   228000   186000   180000    50000\n",
      "   205000   215000   247500   172200   224000  1400000   128000   329500\n",
      "   269600   203500   152000   239000   122900   191765   134236   112000\n",
      "    84000   135000   105500   293000   148500   240500   123700   152900\n",
      "   117100   173000   113000   260000   184000   149500   127075   219535\n",
      "   146115   199000   162000   221000   153000   187000   179000   109000\n",
      "   142000   198800   125000    86000   106000   280700   150450   250500\n",
      "   159500   130001    71907    93918    51962   257000   147000   222000\n",
      "   133200   156000   304000   161200    84570   240000   183600   289076\n",
      "   202353   157750   104650    68000    60000   181000   154000   146000\n",
      "    64200    56100   208450   170550   171250   113750   153600   100500\n",
      "   182500   121500   203100   114500    92700    61800   258000   167500\n",
      "   106500    57000   286000   207000   223250   178600   353200   249300\n",
      "   297300   198200   151800   317070   170730    20000   108000   134000\n",
      "   124000   124500   148700   125600   120250   183000  1500000   216000\n",
      "   143865   115092   132000   208049   128500   149600   102000   106800\n",
      "   151000     7000    40000   143000    42000   111000   265000   235000\n",
      "    60400   164000    56000    83500    52500   201036   134024    62000\n",
      "    58000   172000   163800   126000   139500   109400   205600   105700\n",
      "   239748   159832   186300   102500   149040   113900   172600   107900\n",
      "   180180   106020   376080   213120   206500   121600   194500   115500\n",
      "   115934    81666   206000   138000    92000    48000    87000   299500\n",
      "   245100   115100    73900   141288    94192   210914   116704   185700\n",
      "   169000   110600   193000   136850   276000   178500   161000    83300\n",
      "   112700   128750   106250   188500   117000   104500   127000    94000\n",
      "   210550   153300   161500   119500   148750   146300   153400   122700\n",
      "   123900   340000   121700   310000   149076    82365    85500    97750\n",
      "   201000   122000   116990    82920   142200   205920   171600    78000\n",
      "   116000    36050    34320    93800    67000  1300000  1000000   104000\n",
      "   152380   121904   128280   106900   192000   170500    60027    44737\n",
      "   131899   104891   124740    65488    72200    64980   179975    86466\n",
      "   168000   167580    87980   202000   148000   269000   158000   197000\n",
      "   290000   172800   300240   200160   370000   137500   323300   184700\n",
      "   153088   183310   144000    66000   126277   126500   272000   259000\n",
      "   101400   288000   215050   198000   114000   209300   182200   227000\n",
      "    52000   226700   133300   124999   800000    63000   253750   169200\n",
      "   213580   163625    12000   375000  1350000   231250   138750   284310\n",
      "   153090   225900   385000    93919   241871   133832   192500   216100\n",
      "   140800   284000   236000   248100   145900   155850   102544   151410\n",
      "   115360  1050000    25000   107000    23000   182750   314100   195800\n",
      "   350000   262500   209450   158677   103200    61200    59000   174500\n",
      "   107250   119000   285800   154600  5000000   124234    74540    79000\n",
      "   141290    74178   107500  1060000     6000  1440000   840000  1250000\n",
      "   182000   234100   223800   172100   232200   167200   291500   196200\n",
      "   150900   167000    96100   196000   126100   187500    24000   165750\n",
      "    89700    55250   175308   100706   229000  4000000   272550    64000\n",
      "   143100   180560   115440  1125000   261500   134500  1100000    94500\n",
      "   127500    51000   248400  4460000   149000   246000    10000  2500000\n",
      "  2800000   249500   149850   122500   102640    66100   122600   159000\n",
      "   255000   166700   194000   129400    89200   178750   197430   134760\n",
      "    99000   105120    75360   171000    13000   213000   227200    61000\n",
      "   243000   178000    96000   137000   189750   140250   191200   179500\n",
      "    26000   118000   177000   131000   193750   116250   208000    45555\n",
      "  6600000   140700    33000   154560   123648   177500   192564   144854\n",
      "   179305   142127   315000   243900   156600    77300    45600   184100\n",
      "   198440    47000   187200   116100   159699   138938    76000   125404\n",
      "   123000    92250    97000   157000   345600   230400   175950   130050\n",
      "   236600    27000   400000     8000   123400    88100   139600    85700\n",
      "    98200    98000   144200  3000000   188700   160395   191475   141525\n",
      "   156868   178800   132100   229998   154545    99750    68400   236900\n",
      "   159200   243225   179775   218000   145300   195400   131300   195700\n",
      "   130500   141300   102100    83000  1800000   633000   179400   193900\n",
      "   222640   182160   297500    93000    73000    40300   136994   101570\n",
      "    97500   212800   142800   500000   130240    83376    65004    84958\n",
      "    66822    81000    46000   204100   136100     7500    77000    28500\n",
      "   119300   146200   124270   185800   137400   148800  7500000    82000\n",
      "    32400   216200   144100   175100   189650   164996    99450   188100\n",
      "   139860   248700   167100   450000   189500   140100   177600   202900\n",
      "   900000  4200000   260500    73400    49500  2400000   206699    99100\n",
      "   221300    74000   249260   185400   128875    93700   136260   109280\n",
      "   150075   110925    22800   112900    90320    62500   105400    43200\n",
      "   215300   158200   209100   165400   132320   208775   147800  6000000\n",
      "   100800   140400    82900    63900   112300   108800   242000   165220\n",
      "   120160   124190   181940   220110   160080   106260   120600    84900\n",
      "   136620    99360   161342   137141   211500   138600   192400    61300\n",
      "    95550   136600   167875   205300   200100    70500   116150    99050\n",
      "   192600   266400   150260    69000   324000   185100   104890    53000\n",
      "    88000    66500   121000    29000    69999    52800   405000   380000\n",
      "  8500000  7000000    38400    82500   700000     8760    51999    41000\n",
      "    13400   103000   270000    45760    44000  2250000    37456 11000000\n",
      "    14000  2200000   188000  2100000    51400    61500   720000    31000\n",
      "    91000  1600000   256000    72500    65720   111775    93150    21600\n",
      "  4900000  1200000    21000  1799997     9272   120500    21844    22000\n",
      "    76760  1672000   420000 30400000    32000   416000    40900  4450000\n",
      "   423000   325000    34000    69600   435000    37000    19000    18000\n",
      "    39600  1335000  1450000   190200   138350   130800   412000]\n",
      "Unique values in column 'salary_currency': ['EUR' 'USD' 'INR' 'HKD' 'CHF' 'GBP' 'AUD' 'SGD' 'CAD' 'ILS' 'BRL' 'THB'\n",
      " 'PLN' 'HUF' 'CZK' 'DKK' 'JPY' 'MXN' 'TRY' 'CLP']\n",
      "Unique values in column 'salary_in_usd': [ 85847  30000  25500 ...  28369 412000  94665]\n",
      "Unique values in column 'employee_residence': ['ES' 'US' 'CA' 'DE' 'GB' 'NG' 'IN' 'HK' 'PT' 'NL' 'CH' 'CF' 'FR' 'AU'\n",
      " 'FI' 'UA' 'IE' 'IL' 'GH' 'AT' 'CO' 'SG' 'SE' 'SI' 'MX' 'UZ' 'BR' 'TH'\n",
      " 'HR' 'PL' 'KW' 'VN' 'CY' 'AR' 'AM' 'BA' 'KE' 'GR' 'MK' 'LV' 'RO' 'PK'\n",
      " 'IT' 'MA' 'LT' 'BE' 'AS' 'IR' 'HU' 'SK' 'CN' 'CZ' 'CR' 'TR' 'CL' 'PR'\n",
      " 'DK' 'BO' 'PH' 'DO' 'EG' 'ID' 'AE' 'MY' 'JP' 'EE' 'HN' 'TN' 'RU' 'DZ'\n",
      " 'IQ' 'BG' 'JE' 'RS' 'NZ' 'MD' 'LU' 'MT']\n",
      "Unique values in column 'remote_ratio': [100   0  50]\n",
      "Unique values in column 'company_location': ['ES' 'US' 'CA' 'DE' 'GB' 'NG' 'IN' 'HK' 'NL' 'CH' 'CF' 'FR' 'FI' 'UA'\n",
      " 'IE' 'IL' 'GH' 'CO' 'SG' 'AU' 'SE' 'SI' 'MX' 'BR' 'PT' 'RU' 'TH' 'HR'\n",
      " 'VN' 'EE' 'AM' 'BA' 'KE' 'GR' 'MK' 'LV' 'RO' 'PK' 'IT' 'MA' 'PL' 'AL'\n",
      " 'AR' 'LT' 'AS' 'CR' 'IR' 'BS' 'HU' 'AT' 'SK' 'CZ' 'TR' 'PR' 'DK' 'BO'\n",
      " 'PH' 'BE' 'ID' 'EG' 'AE' 'LU' 'MY' 'HN' 'JP' 'DZ' 'IQ' 'CN' 'NZ' 'CL'\n",
      " 'MD' 'MT']\n",
      "Unique values in column 'company_size': ['L' 'S' 'M']\n"
     ]
    }
   ],
   "source": [
    "for column in ds_salary_df.columns:\n",
    "    unique_values = ds_salary_df[column].unique()\n",
    "    print(f\"Unique values in column '{column}': {unique_values}\")"
   ]
  },
  {
   "cell_type": "markdown",
   "id": "b116af62-fb15-4e88-8942-d420475f57f9",
   "metadata": {
    "id": "b116af62-fb15-4e88-8942-d420475f57f9"
   },
   "source": [
    "**Observation columns have unique values and are free from typos. But some job titles have inconsistencies, therefore it is subjected for cleaning.**"
   ]
  },
  {
   "cell_type": "code",
   "execution_count": 7,
   "id": "af120c71",
   "metadata": {
    "id": "af120c71"
   },
   "outputs": [],
   "source": [
    "# Creating new clean dataset\n",
    "ds_salary_clean = ds_salary_df"
   ]
  },
  {
   "cell_type": "markdown",
   "id": "e607ab62-f49e-4e16-965b-194e40a94737",
   "metadata": {
    "id": "e607ab62-f49e-4e16-965b-194e40a94737"
   },
   "source": [
    "### Generalization of Job Titles\n",
    "\n",
    "To reduce redundancy and standardize job titles, specific ranks such as \"Principal\" and \"Staff\" will be generalized. This is done to align with the existing categorization based on experience levels.\n",
    "\n",
    "1. **Principal Machine Learning Engineer** ➔ Machine Learning Engineer\n",
    "2. **Staff Data Analyst** ➔ Data Analyst\n",
    "3. **Staff Data Scientist** ➔ Data Scientist\n",
    "4. **Principal Data Architect** ➔ Data Architect\n",
    "5. **Principal Data Engineer** ➔ Data Engineer\n",
    "6. **Principal Data Analyst** ➔ Data Analyst\n",
    "7. **Principal Data Scientist** ➔ Data Scientist\n"
   ]
  },
  {
   "cell_type": "code",
   "execution_count": 8,
   "id": "87558037-33c2-4f6c-854d-9aa20f398920",
   "metadata": {
    "id": "87558037-33c2-4f6c-854d-9aa20f398920"
   },
   "outputs": [],
   "source": [
    "ds_salary_clean['job_title'] = ds_salary_df['job_title'].replace({\n",
    "    'Principal Machine Learning Engineer': 'Machine Learning Engineer',\n",
    "    'Staff Data Analyst': 'Data Analyst',\n",
    "    'Staff Data Scientist': 'Data Scientist',\n",
    "    'Principal Data Architect': 'Data Architect',\n",
    "    'Principal Data Engineer': 'Data Engineer',\n",
    "    'Principal Data Analyst': 'Data Analyst',\n",
    "    'Principal Data Scientist': 'Data Scientist'\n",
    "})"
   ]
  },
  {
   "cell_type": "markdown",
   "id": "641fc42b-8fff-431c-874b-68ad69693efc",
   "metadata": {
    "id": "641fc42b-8fff-431c-874b-68ad69693efc"
   },
   "source": [
    "\n",
    "### Cleaning Duplicated Job Titles\n",
    "\n",
    "The dataset contains 93 job titles. The dataset's duplicated job listings are cleaned as follows:\n",
    "\n",
    "1. **ML Engineer** ➔ Machine Learning Engineer (ML is shorthand for Machine Learning)\n",
    "2. **BI Analyst** ➔  BI Data Analyst (BI = Business Intelligence)\n",
    "3. **Machine Learning Software Engineer** ➔  Machine Learning Engineer\n",
    "4. **Lead Data Scientist** ➔ Data Science Lead   \n",
    "\n",
    "Job titles that appear similar but are not are the following:\n",
    "\n",
    "1. Data Manager and Data Science Manager\n",
    "2. BI (Business Intelligence) Data Analyst and Business Data Analyst."
   ]
  },
  {
   "cell_type": "code",
   "execution_count": 9,
   "id": "3714240f-e586-465c-9a08-5efc0742f536",
   "metadata": {
    "id": "3714240f-e586-465c-9a08-5efc0742f536"
   },
   "outputs": [],
   "source": [
    "ds_salary_clean['job_title'] = ds_salary_df['job_title'].replace({\n",
    "    'ML Engineer': 'Machine Learning Engineer',\n",
    "    'BI Analyst': 'BI Data Analyst',\n",
    "    'Machine Learning Software Engineer': 'Machine Learning Engineer',\n",
    "    'Lead Data Scientist': 'Data Science Lead'\n",
    "})"
   ]
  },
  {
   "cell_type": "markdown",
   "id": "fe8efd11-98e6-4ef7-8237-b0a21b5cf4de",
   "metadata": {
    "id": "fe8efd11-98e6-4ef7-8237-b0a21b5cf4de"
   },
   "source": [
    "### Cleaning Administrative Job Titles\n",
    "\n",
    "For easier viewing, all administrative positions (e.g., manager, lead, consultant, director) are placed at the end of the job title.\n",
    "\n",
    "1. **Director of Data Science** ➔ Data Science Director\n",
    "2. **Head of Data** ➔ Data Head\n",
    "3. **Head of Data Science** ➔ Data Science Head\n",
    "4. **Head of Machine Learning** ➔ Machine Learning Head\n",
    "5. **Lead Machine Learning Engineer** ➔ Machine Learning Engineer Lead\n",
    "6. **Lead Data Analyst** ➔ Data Analyst Lead\n",
    "7. **Lead Data Engineer** ➔ Data Engineer Lead"
   ]
  },
  {
   "cell_type": "code",
   "execution_count": 10,
   "id": "65d3bdaa-716e-4a8c-899e-536d39e78578",
   "metadata": {
    "id": "65d3bdaa-716e-4a8c-899e-536d39e78578"
   },
   "outputs": [],
   "source": [
    "ds_salary_clean['job_title'] = ds_salary_df['job_title'].replace({\n",
    "    'Director of Data Science': 'Data Science Director',\n",
    "    'Head of Data': 'Data Head',\n",
    "    'Head of Data Science': 'Data Science Head',\n",
    "    'Head of Machine Learning': 'Machine Learning Head',\n",
    "    'Lead Machine Learning Engineer': 'Machine Learning Engineer Lead',\n",
    "    'Lead Data Analyst': 'Data Analyst Lead',\n",
    "    'Lead Data Engineer': 'Data Engineer Lead'\n",
    "})"
   ]
  },
  {
   "cell_type": "markdown",
   "id": "00cf17c9",
   "metadata": {
    "id": "00cf17c9"
   },
   "source": [
    "## Dataset Preprocessing"
   ]
  },
  {
   "cell_type": "markdown",
   "id": "05cd8cf0",
   "metadata": {
    "id": "05cd8cf0"
   },
   "source": [
    "### Dropping Unnecessary Variables\n",
    "\n",
    "We have removed variables that are not required for our analysis.\n",
    "These variables include:\n",
    "\n",
    "1. **salary**\n",
    "2. **salary_currency**\n",
    "3. **employee_residence**"
   ]
  },
  {
   "cell_type": "code",
   "execution_count": 11,
   "id": "2877f962",
   "metadata": {
    "colab": {
     "base_uri": "https://localhost:8080/"
    },
    "id": "2877f962",
    "outputId": "8bc1e08a-66e8-46fe-ace5-d5b0004068ef"
   },
   "outputs": [
    {
     "name": "stdout",
     "output_type": "stream",
     "text": [
      "Columns before and after dropping 'salary' and 'salary_currency':\n",
      "+-----------------+-------------------------------------------------------------------------------------------------------------------------------------------------------------------+\n",
      "| Stage           | Columns                                                                                                                                                           |\n",
      "+=================+===================================================================================================================================================================+\n",
      "| Initial Columns | work_year, experience_level, employment_type, job_title, salary, salary_currency, salary_in_usd, employee_residence, remote_ratio, company_location, company_size |\n",
      "+-----------------+-------------------------------------------------------------------------------------------------------------------------------------------------------------------+\n",
      "| Final Columns   | work_year, experience_level, employment_type, job_title, salary_in_usd, remote_ratio, company_location, company_size                                              |\n",
      "+-----------------+-------------------------------------------------------------------------------------------------------------------------------------------------------------------+\n"
     ]
    }
   ],
   "source": [
    "initial_columns = ds_salary_clean.columns.tolist()\n",
    "\n",
    "# Drop the 'salary', 'salary_currency', and 'employee_residence' columns\n",
    "ds_salary_clean.drop(columns=['salary', 'salary_currency', 'employee_residence'], inplace=True)\n",
    "\n",
    "final_columns = ds_salary_clean.columns.tolist()\n",
    "\n",
    "print(\"Columns before and after dropping 'salary' and 'salary_currency':\")\n",
    "print(tabulate([[\"Initial Columns\", \", \".join(initial_columns)],\n",
    "                [\"Final Columns\", \", \".join(final_columns)]],\n",
    "               headers=[\"Stage\", \"Columns\"], tablefmt=\"grid\"))"
   ]
  },
  {
   "cell_type": "code",
   "execution_count": 12,
   "id": "8NTAuvsYqqWH",
   "metadata": {
    "colab": {
     "base_uri": "https://localhost:8080/"
    },
    "id": "8NTAuvsYqqWH",
    "outputId": "ee56b60c-1b3b-4258-8d34-c9739bf040ff"
   },
   "outputs": [
    {
     "name": "stdout",
     "output_type": "stream",
     "text": [
      "<class 'pandas.core.frame.DataFrame'>\n",
      "RangeIndex: 3755 entries, 0 to 3754\n",
      "Data columns (total 8 columns):\n",
      " #   Column            Non-Null Count  Dtype \n",
      "---  ------            --------------  ----- \n",
      " 0   work_year         3755 non-null   int64 \n",
      " 1   experience_level  3755 non-null   object\n",
      " 2   employment_type   3755 non-null   object\n",
      " 3   job_title         3755 non-null   object\n",
      " 4   salary_in_usd     3755 non-null   int64 \n",
      " 5   remote_ratio      3755 non-null   int64 \n",
      " 6   company_location  3755 non-null   object\n",
      " 7   company_size      3755 non-null   object\n",
      "dtypes: int64(3), object(5)\n",
      "memory usage: 234.8+ KB\n"
     ]
    }
   ],
   "source": [
    "ds_salary_clean.info()"
   ]
  },
  {
   "cell_type": "code",
   "execution_count": 13,
   "id": "AMedU0ZPq8XJ",
   "metadata": {
    "colab": {
     "base_uri": "https://localhost:8080/",
     "height": 348
    },
    "id": "AMedU0ZPq8XJ",
    "outputId": "dff49d71-8224-446f-fe04-7755bb58bc0c"
   },
   "outputs": [
    {
     "data": {
      "text/html": [
       "<div>\n",
       "<style scoped>\n",
       "    .dataframe tbody tr th:only-of-type {\n",
       "        vertical-align: middle;\n",
       "    }\n",
       "\n",
       "    .dataframe tbody tr th {\n",
       "        vertical-align: top;\n",
       "    }\n",
       "\n",
       "    .dataframe thead th {\n",
       "        text-align: right;\n",
       "    }\n",
       "</style>\n",
       "<table border=\"1\" class=\"dataframe\">\n",
       "  <thead>\n",
       "    <tr style=\"text-align: right;\">\n",
       "      <th></th>\n",
       "      <th>work_year</th>\n",
       "      <th>experience_level</th>\n",
       "      <th>employment_type</th>\n",
       "      <th>job_title</th>\n",
       "      <th>salary_in_usd</th>\n",
       "      <th>remote_ratio</th>\n",
       "      <th>company_location</th>\n",
       "      <th>company_size</th>\n",
       "    </tr>\n",
       "  </thead>\n",
       "  <tbody>\n",
       "    <tr>\n",
       "      <th>0</th>\n",
       "      <td>2023</td>\n",
       "      <td>SE</td>\n",
       "      <td>FT</td>\n",
       "      <td>Data Scientist</td>\n",
       "      <td>85847</td>\n",
       "      <td>100</td>\n",
       "      <td>ES</td>\n",
       "      <td>L</td>\n",
       "    </tr>\n",
       "    <tr>\n",
       "      <th>1</th>\n",
       "      <td>2023</td>\n",
       "      <td>MI</td>\n",
       "      <td>CT</td>\n",
       "      <td>Machine Learning Engineer</td>\n",
       "      <td>30000</td>\n",
       "      <td>100</td>\n",
       "      <td>US</td>\n",
       "      <td>S</td>\n",
       "    </tr>\n",
       "    <tr>\n",
       "      <th>2</th>\n",
       "      <td>2023</td>\n",
       "      <td>MI</td>\n",
       "      <td>CT</td>\n",
       "      <td>Machine Learning Engineer</td>\n",
       "      <td>25500</td>\n",
       "      <td>100</td>\n",
       "      <td>US</td>\n",
       "      <td>S</td>\n",
       "    </tr>\n",
       "    <tr>\n",
       "      <th>3</th>\n",
       "      <td>2023</td>\n",
       "      <td>SE</td>\n",
       "      <td>FT</td>\n",
       "      <td>Data Scientist</td>\n",
       "      <td>175000</td>\n",
       "      <td>100</td>\n",
       "      <td>CA</td>\n",
       "      <td>M</td>\n",
       "    </tr>\n",
       "    <tr>\n",
       "      <th>4</th>\n",
       "      <td>2023</td>\n",
       "      <td>SE</td>\n",
       "      <td>FT</td>\n",
       "      <td>Data Scientist</td>\n",
       "      <td>120000</td>\n",
       "      <td>100</td>\n",
       "      <td>CA</td>\n",
       "      <td>M</td>\n",
       "    </tr>\n",
       "  </tbody>\n",
       "</table>\n",
       "</div>"
      ],
      "text/plain": [
       "   work_year experience_level employment_type                  job_title  \\\n",
       "0       2023               SE              FT             Data Scientist   \n",
       "1       2023               MI              CT  Machine Learning Engineer   \n",
       "2       2023               MI              CT  Machine Learning Engineer   \n",
       "3       2023               SE              FT             Data Scientist   \n",
       "4       2023               SE              FT             Data Scientist   \n",
       "\n",
       "   salary_in_usd  remote_ratio company_location company_size  \n",
       "0          85847           100               ES            L  \n",
       "1          30000           100               US            S  \n",
       "2          25500           100               US            S  \n",
       "3         175000           100               CA            M  \n",
       "4         120000           100               CA            M  "
      ]
     },
     "execution_count": 13,
     "metadata": {},
     "output_type": "execute_result"
    }
   ],
   "source": [
    "ds_salary_clean.head()"
   ]
  },
  {
   "cell_type": "markdown",
   "id": "4c128f30",
   "metadata": {
    "id": "4c128f30"
   },
   "source": [
    "## Exploratory Data Analysis"
   ]
  },
  {
   "cell_type": "markdown",
   "id": "b3c48a2b",
   "metadata": {},
   "source": [
    "### EDA Questions:\n",
    "1. What does the salary **(salary_in_usd)** distribution look like?\n",
    "2. What are the most common company locations represented in the dataset?\n",
    "3. What are the most common job titles found in the dataset?\n",
    "4. Is there a correlation between salary and experience level?\n",
    "5. How does the type of employment affect salary distribution, and which employment type exhibits the greatest salary variability?\n",
    "\n",
    "\n"
   ]
  },
  {
   "cell_type": "markdown",
   "id": "5cf4996a",
   "metadata": {
    "id": "5cf4996a"
   },
   "source": [
    "### Question 1  - What does the salary **(salary_in_usd)** distribution look like?"
   ]
  },
  {
   "cell_type": "markdown",
   "id": "81454e84",
   "metadata": {
    "id": "81454e84"
   },
   "source": [
    "**Numerical Summaries:**"
   ]
  },
  {
   "cell_type": "code",
   "execution_count": 14,
   "id": "bbacba2a",
   "metadata": {
    "colab": {
     "base_uri": "https://localhost:8080/"
    },
    "id": "bbacba2a",
    "outputId": "cfc9533c-19bc-4cf2-a3bf-20c7ff52bc33"
   },
   "outputs": [
    {
     "name": "stdout",
     "output_type": "stream",
     "text": [
      "Mean salary: $137,570.39\n",
      "Median salary: $135,000.00\n",
      "Mode salary: $100,000.00\n",
      "Salary range: $444,868.00\n",
      "Salary variance: $3,976,011,879.23\n",
      "Salary standard deviation: $63,055.63\n"
     ]
    }
   ],
   "source": [
    "# Measures of Central Tendency\n",
    "mean_salary = ds_salary_clean['salary_in_usd'].mean()\n",
    "median_salary = ds_salary_clean['salary_in_usd'].median()\n",
    "mode_salary = ds_salary_clean['salary_in_usd'].mode().values[0]  # In case of multiple modes, take the first one\n",
    "\n",
    "print(f\"Mean salary: ${mean_salary:,.2f}\")\n",
    "print(f\"Median salary: ${median_salary:,.2f}\")\n",
    "print(f\"Mode salary: ${mode_salary:,.2f}\")\n",
    "\n",
    "# Measures of Dispersion\n",
    "salary_range = ds_salary_clean['salary_in_usd'].max() - ds_salary_clean['salary_in_usd'].min()\n",
    "salary_variance = ds_salary_clean['salary_in_usd'].var()\n",
    "salary_std = ds_salary_clean['salary_in_usd'].std()\n",
    "\n",
    "print(f\"Salary range: ${salary_range:,.2f}\")\n",
    "print(f\"Salary variance: ${salary_variance:,.2f}\")\n",
    "print(f\"Salary standard deviation: ${salary_std:,.2f}\")\n",
    "\n",
    "# Compute correlation matrix for selected numeric columns\n",
    "numeric_columns = ['salary_in_usd']\n",
    "numeric_df = ds_salary_clean[numeric_columns]\n",
    "\n"
   ]
  },
  {
   "cell_type": "markdown",
   "id": "f1e0bab3",
   "metadata": {
    "id": "f1e0bab3"
   },
   "source": [
    "**Central Tendency:** The mean salary of $137,570.39, median salary of $135,000.00, and mode salary of $100,000.00 indicate that salaries cluster around these values, highlighting typical salary levels in the dataset.\n",
    "\n",
    "**Dispersion:** A wide salary range of $444,868.00, large variance of $3,976,011,879.23, and standard deviation of $63,055.63 illustrate significant variability in salary levels, reflecting diverse income ranges within the dataset.\n"
   ]
  },
  {
   "cell_type": "markdown",
   "id": "dfe25296",
   "metadata": {
    "id": "dfe25296"
   },
   "source": [
    "**Visualization:**"
   ]
  },
  {
   "cell_type": "code",
   "execution_count": 15,
   "id": "dc0f86d7",
   "metadata": {
    "colab": {
     "base_uri": "https://localhost:8080/",
     "height": 589
    },
    "id": "dc0f86d7",
    "outputId": "81de31f9-4121-442c-e153-0333dc404f69"
   },
   "outputs": [
    {
     "name": "stderr",
     "output_type": "stream",
     "text": [
      "/opt/anaconda3/lib/python3.11/site-packages/seaborn/_oldcore.py:1498: DeprecationWarning: is_categorical_dtype is deprecated and will be removed in a future version. Use isinstance(dtype, pd.CategoricalDtype) instead\n",
      "  if pd.api.types.is_categorical_dtype(vector):\n",
      "/opt/anaconda3/lib/python3.11/site-packages/seaborn/_oldcore.py:1119: FutureWarning: use_inf_as_na option is deprecated and will be removed in a future version. Convert inf values to NaN before operating instead.\n",
      "  with pd.option_context('mode.use_inf_as_na', True):\n"
     ]
    },
    {
     "data": {
      "image/png": "[encoded data removed]",
      "text/plain": [
       "<Figure size 1000x600 with 1 Axes>"
      ]
     },
     "metadata": {},
     "output_type": "display_data"
    },
    {
     "name": "stdout",
     "output_type": "stream",
     "text": [
      "The skewness of the salary distribution is: 0.54\n"
     ]
    }
   ],
   "source": [
    "plt.figure(figsize=(10, 6))\n",
    "sns.histplot(ds_salary_clean['salary_in_usd'], bins=30, kde=True, color='skyblue', edgecolor='black')\n",
    "\n",
    "plt.title('Distribution of Salaries in USD', fontsize=16)\n",
    "plt.xlabel('Salary in USD', fontsize=14)\n",
    "plt.ylabel('Frequency', fontsize=14)\n",
    "\n",
    "plt.show()\n",
    "\n",
    "# Skewness of salary_in_usd\n",
    "salary_data = ds_salary_clean['salary_in_usd']\n",
    "salary_skewness = skew(salary_data)\n",
    "\n",
    "print(f\"The skewness of the salary distribution is: {salary_skewness:.2f}\")\n"
   ]
  },
  {
   "cell_type": "markdown",
   "id": "96c0cdd8",
   "metadata": {
    "id": "96c0cdd8"
   },
   "source": [
    "The skewness of the salary distribution is 0.54, indicating a **moderately positively skewed distribution**.  Because of this skewness, some higher salaries have pulled the mean to the right, making the mean salary slightly higher than the median. For most data points, the median provides a better indication of the central tendency than the mode, which is likely lower. This indicates that while there are enough higher wages to produce a moderate positive skew, the majority of pay data points appear to be clustered around a central value."
   ]
  },
  {
   "cell_type": "markdown",
   "id": "8386944b",
   "metadata": {
    "id": "8386944b"
   },
   "source": [
    "### Question 2  - What are the most common company locations represented in the dataset?\n"
   ]
  },
  {
   "cell_type": "markdown",
   "id": "f86afb95",
   "metadata": {
    "id": "f86afb95"
   },
   "source": [
    "**Numerical Summaries:**"
   ]
  },
  {
   "cell_type": "code",
   "execution_count": 16,
   "id": "3f1b211e",
   "metadata": {
    "colab": {
     "base_uri": "https://localhost:8080/"
    },
    "id": "3f1b211e",
    "outputId": "58549ff6-6280-4914-f146-863133825cac"
   },
   "outputs": [
    {
     "name": "stdout",
     "output_type": "stream",
     "text": [
      "Most common company location: US\n",
      "Count of the most common location: 3040\n",
      "Number of unique company locations: 72\n",
      "\n",
      "Company Location Counts:\n",
      "company_location\n",
      "US    3040\n",
      "GB     172\n",
      "CA      87\n",
      "ES      77\n",
      "IN      58\n",
      "      ... \n",
      "MK       1\n",
      "BS       1\n",
      "IR       1\n",
      "CR       1\n",
      "MT       1\n",
      "Name: count, Length: 72, dtype: int64\n",
      "\n",
      "Company Location Percentages:\n",
      "company_location\n",
      "US    80.958722\n",
      "GB     4.580559\n",
      "CA     2.316911\n",
      "ES     2.050599\n",
      "IN     1.544607\n",
      "        ...    \n",
      "MK     0.026631\n",
      "BS     0.026631\n",
      "IR     0.026631\n",
      "CR     0.026631\n",
      "MT     0.026631\n",
      "Name: proportion, Length: 72, dtype: float64\n"
     ]
    }
   ],
   "source": [
    "most_common_location = ds_salary_clean['company_location'].mode()[0]\n",
    "count_most_common_location = ds_salary_clean['company_location'].value_counts().max()\n",
    "\n",
    "print(\"Most common company location:\", most_common_location)\n",
    "print(\"Count of the most common location:\", count_most_common_location)\n",
    "\n",
    "num_unique_locations = len(ds_salary_clean['company_location'].unique())\n",
    "print(\"Number of unique company locations:\", num_unique_locations)\n",
    "\n",
    "company_location_counts = ds_salary_clean['company_location'].value_counts()\n",
    "company_location_percentages = ds_salary_clean['company_location'].value_counts(normalize=True) * 100\n",
    "\n",
    "print(\"\\nCompany Location Counts:\")\n",
    "print(company_location_counts)\n",
    "print(\"\\nCompany Location Percentages:\")\n",
    "print(company_location_percentages)"
   ]
  },
  {
   "cell_type": "markdown",
   "id": "12bbbcc6",
   "metadata": {
    "id": "12bbbcc6"
   },
   "source": [
    "**Visualization:**"
   ]
  },
  {
   "cell_type": "code",
   "execution_count": 17,
   "id": "cfee7745",
   "metadata": {
    "colab": {
     "base_uri": "https://localhost:8080/",
     "height": 984
    },
    "id": "cfee7745",
    "outputId": "f22255b1-3a6a-438b-b559-976d87caff34"
   },
   "outputs": [
    {
     "name": "stderr",
     "output_type": "stream",
     "text": [
      "/opt/anaconda3/lib/python3.11/site-packages/seaborn/_oldcore.py:1498: DeprecationWarning: is_categorical_dtype is deprecated and will be removed in a future version. Use isinstance(dtype, pd.CategoricalDtype) instead\n",
      "  if pd.api.types.is_categorical_dtype(vector):\n",
      "/opt/anaconda3/lib/python3.11/site-packages/seaborn/_oldcore.py:1498: DeprecationWarning: is_categorical_dtype is deprecated and will be removed in a future version. Use isinstance(dtype, pd.CategoricalDtype) instead\n",
      "  if pd.api.types.is_categorical_dtype(vector):\n"
     ]
    },
    {
     "data": {
      "image/png": "[encoded data removed]",
      "text/plain": [
       "<Figure size 1400x1300 with 1 Axes>"
      ]
     },
     "metadata": {},
     "output_type": "display_data"
    }
   ],
   "source": [
    "plt.figure(figsize=(14, 13))\n",
    "sns.countplot(y='company_location', data=ds_salary_clean, order=ds_salary_clean['company_location'].value_counts().index)\n",
    "plt.title('Distribution of Company Locations', fontsize=16)\n",
    "plt.xlabel('Count', fontsize=14)\n",
    "plt.ylabel('Company Location', fontsize=14)\n",
    "plt.show()"
   ]
  },
  {
   "cell_type": "markdown",
   "id": "493faaa5",
   "metadata": {
    "id": "493faaa5"
   },
   "source": [
    "The analysis of the **company_location** variable indicates a **bias** towards  the United States market, which hosts the majority of companies in the dataset (3040 out of 3755 observations, or approximately 80.96%). This bias suggests that the dataset may not fully represent global diversity in company locations and could skew insights towards regions with higher data availability or participation."
   ]
  },
  {
   "cell_type": "markdown",
   "id": "6e774b6d",
   "metadata": {
    "id": "6e774b6d"
   },
   "source": [
    "### Question 3 - What are the most common job titles found in the dataset?"
   ]
  },
  {
   "cell_type": "markdown",
   "id": "4c60d2c6",
   "metadata": {
    "id": "4c60d2c6"
   },
   "source": [
    "**Numerical Summaries:**"
   ]
  },
  {
   "cell_type": "code",
   "execution_count": 18,
   "id": "XYjscBV9ahxK",
   "metadata": {
    "colab": {
     "base_uri": "https://localhost:8080/"
    },
    "id": "XYjscBV9ahxK",
    "outputId": "f00de622-937f-407c-8be9-9e5fa34c8063"
   },
   "outputs": [
    {
     "name": "stdout",
     "output_type": "stream",
     "text": [
      "Most common job title: Data Engineer\n",
      "Count of the most common job title: 1042\n",
      "Number of unique job titles: 82\n",
      "\n",
      "Job Title Counts:\n",
      "job_title\n",
      "Data Engineer                 1042\n",
      "Data Scientist                 849\n",
      "Data Analyst                   615\n",
      "Machine Learning Engineer      334\n",
      "Analytics Engineer             103\n",
      "                              ... \n",
      "Data Management Specialist       1\n",
      "Deep Learning Researcher         1\n",
      "Manager Data Management          1\n",
      "Azure Data Engineer              1\n",
      "Finance Data Analyst             1\n",
      "Name: count, Length: 82, dtype: int64\n",
      "\n",
      "Job Title Percentages:\n",
      "job_title\n",
      "Data Engineer                 27.749667\n",
      "Data Scientist                22.609854\n",
      "Data Analyst                  16.378162\n",
      "Machine Learning Engineer      8.894807\n",
      "Analytics Engineer             2.743009\n",
      "                                ...    \n",
      "Data Management Specialist     0.026631\n",
      "Deep Learning Researcher       0.026631\n",
      "Manager Data Management        0.026631\n",
      "Azure Data Engineer            0.026631\n",
      "Finance Data Analyst           0.026631\n",
      "Name: proportion, Length: 82, dtype: float64\n"
     ]
    }
   ],
   "source": [
    "most_common_title = ds_salary_clean['job_title'].mode()[0]\n",
    "count_most_common_title = ds_salary_clean['job_title'].value_counts().max()\n",
    "\n",
    "print(\"Most common job title:\", most_common_title)\n",
    "print(\"Count of the most common job title:\", count_most_common_title)\n",
    "\n",
    "num_unique_titles = len(ds_salary_clean['job_title'].unique())\n",
    "print(\"Number of unique job titles:\", num_unique_titles)\n",
    "\n",
    "job_title_counts = ds_salary_clean['job_title'].value_counts()\n",
    "job_title_percentages = ds_salary_clean['job_title'].value_counts(normalize=True) * 100\n",
    "\n",
    "print(\"\\nJob Title Counts:\")\n",
    "print(job_title_counts)\n",
    "print(\"\\nJob Title Percentages:\")\n",
    "print(job_title_percentages)"
   ]
  },
  {
   "cell_type": "markdown",
   "id": "aa21f41a",
   "metadata": {
    "id": "aa21f41a"
   },
   "source": [
    "**Visualization:**"
   ]
  },
  {
   "cell_type": "code",
   "execution_count": 19,
   "id": "9BTsrW5PrTiA",
   "metadata": {
    "colab": {
     "base_uri": "https://localhost:8080/",
     "height": 659
    },
    "id": "9BTsrW5PrTiA",
    "outputId": "50114644-65ee-488b-c6f9-871d798a8d26"
   },
   "outputs": [
    {
     "data": {
      "text/plain": [
       "Text(0.5, 1.0, 'Top 20 Job Titles')"
      ]
     },
     "execution_count": 19,
     "metadata": {},
     "output_type": "execute_result"
    },
    {
     "data": {
      "image/png": "[encoded data removed]",
      "text/plain": [
       "<Figure size 600x700 with 1 Axes>"
      ]
     },
     "metadata": {},
     "output_type": "display_data"
    }
   ],
   "source": [
    "top20_job_title_count_df = job_title_counts.head(20)\n",
    "top20_job_title_count_df.plot.barh(figsize=(6,7)).invert_yaxis()\n",
    "plt.xlabel('Job Title')\n",
    "plt.ylabel('Count')\n",
    "plt.title('Top 20 Job Titles')"
   ]
  },
  {
   "cell_type": "markdown",
   "id": "25MglRWMZfuR",
   "metadata": {
    "id": "25MglRWMZfuR"
   },
   "source": [
    "Analysis on the job_title variable shows that the three job titles with the most observations are Data Engineer, Data Scientist, and Data Analyst respectively. Visualizations are also limited to show only the top 20 job titles present due to the large number of unique job titles (82 unique job titles). Due to numerous job titles being underrepresented, the dataset may not properly show the full spectrum of roles within the Data Science field."
   ]
  },
  {
   "cell_type": "markdown",
   "id": "b40276d6",
   "metadata": {
    "id": "b40276d6"
   },
   "source": [
    "### Question 4  - Is there a correlation between salary and experience level?"
   ]
  },
  {
   "cell_type": "markdown",
   "id": "347953a6",
   "metadata": {
    "id": "347953a6"
   },
   "source": [
    "**Numerical Summaries:**"
   ]
  },
  {
   "cell_type": "code",
   "execution_count": 20,
   "id": "b382c6ab",
   "metadata": {
    "colab": {
     "base_uri": "https://localhost:8080/"
    },
    "id": "b382c6ab",
    "outputId": "2a1818d0-1fd1-483b-f430-177a5ea67440"
   },
   "outputs": [
    {
     "name": "stdout",
     "output_type": "stream",
     "text": [
      "                           mean    median           std    min     max\n",
      "experience_level                                                      \n",
      "EN                 78546.284375   70000.0  52225.424309   5409  300000\n",
      "EX                194930.929825  196000.0  70661.929661  15000  416000\n",
      "MI                104525.939130  100000.0  54387.685128   5132  450000\n",
      "SE                153051.071542  146000.0  56896.263954   8000  423834\n"
     ]
    }
   ],
   "source": [
    "# Group data by 'experience_level' and calculate summary statistics\n",
    "summary_stats = ds_salary_clean.groupby('experience_level')['salary_in_usd'].agg(['mean', 'median', 'std', 'min', 'max'])\n",
    "print(summary_stats)"
   ]
  },
  {
   "cell_type": "markdown",
   "id": "5e487519",
   "metadata": {
    "id": "5e487519"
   },
   "source": [
    "* **EN (Entry-level / Junior):**\n",
    "    * Mean: $78,546.28\n",
    "    * Median: $70,000.00\n",
    "    * Std: $52,225.42\n",
    "    * Min: $5,409\n",
    "    * Max: $300,000\n",
    "* **EX (Executive-level / Director):**\n",
    "    * Mean: $194,930.93\n",
    "    * Median: $196,000.00\n",
    "    * Std: $70,661.93\n",
    "    * Min: $15,000\n",
    "    * Max: $416,000\n",
    "* **MI (Mid-level / Intermediate):**\n",
    "    * Mean: $104,525.94\n",
    "    * Median: $100,000.00\n",
    "    * Std: $54,387.69\n",
    "    * Min: $5,132\n",
    "    * Max: $450,000\n",
    "* **SE (Senior-level / Expert):**\n",
    "    * Mean: $153,051.07\n",
    "    * Median: $146,000.00\n",
    "    * Std: $56,896.26\n",
    "    * Min: $8,000\n",
    "    * Max: $423,834"
   ]
  },
  {
   "cell_type": "markdown",
   "id": "7c91f8e4",
   "metadata": {
    "id": "7c91f8e4"
   },
   "source": [
    "**Visualization:**"
   ]
  },
  {
   "cell_type": "code",
   "execution_count": 21,
   "id": "e4577a9c",
   "metadata": {
    "colab": {
     "base_uri": "https://localhost:8080/",
     "height": 564
    },
    "id": "e4577a9c",
    "outputId": "bafb1fef-e53e-4add-96dc-0b9531b333cb"
   },
   "outputs": [
    {
     "name": "stderr",
     "output_type": "stream",
     "text": [
      "/opt/anaconda3/lib/python3.11/site-packages/seaborn/_oldcore.py:1498: DeprecationWarning: is_categorical_dtype is deprecated and will be removed in a future version. Use isinstance(dtype, pd.CategoricalDtype) instead\n",
      "  if pd.api.types.is_categorical_dtype(vector):\n",
      "/opt/anaconda3/lib/python3.11/site-packages/seaborn/_oldcore.py:1498: DeprecationWarning: is_categorical_dtype is deprecated and will be removed in a future version. Use isinstance(dtype, pd.CategoricalDtype) instead\n",
      "  if pd.api.types.is_categorical_dtype(vector):\n",
      "/opt/anaconda3/lib/python3.11/site-packages/seaborn/_oldcore.py:1498: DeprecationWarning: is_categorical_dtype is deprecated and will be removed in a future version. Use isinstance(dtype, pd.CategoricalDtype) instead\n",
      "  if pd.api.types.is_categorical_dtype(vector):\n"
     ]
    },
    {
     "data": {
      "image/png": "[encoded data removed]",
      "text/plain": [
       "<Figure size 1000x600 with 1 Axes>"
      ]
     },
     "metadata": {},
     "output_type": "display_data"
    }
   ],
   "source": [
    "# Salary vs. Experience Level\n",
    "plt.figure(figsize=(10,6))\n",
    "sns.boxplot(\n",
    "    x = \"experience_level\",\n",
    "    y = \"salary_in_usd\",\n",
    "    showmeans=True,\n",
    "    data=ds_salary_clean\n",
    ")\n",
    "plt.xlabel('Experience Level')\n",
    "plt.ylabel('Salary (USD)')\n",
    "plt.title('Salary by Experience Level')\n",
    "plt.show()"
   ]
  },
  {
   "cell_type": "markdown",
   "id": "3ee56df2",
   "metadata": {
    "id": "3ee56df2"
   },
   "source": [
    "Based on the trend observed from the box plot suggests that as the **experience level** increases, so does the the **salary** and the range of potential salaries. Implicating that there is a positive correlation between the two variables."
   ]
  },
  {
   "cell_type": "markdown",
   "id": "24304fdf",
   "metadata": {
    "id": "24304fdf"
   },
   "source": [
    "### Question 5 - How does the type of employment affect salary distribution, and which employment type exhibits the greatest salary variability?"
   ]
  },
  {
   "cell_type": "markdown",
   "id": "13d74a65",
   "metadata": {
    "id": "13d74a65"
   },
   "source": [
    "**Numerical Summaries:**"
   ]
  },
  {
   "cell_type": "code",
   "execution_count": 22,
   "id": "ee8e561e",
   "metadata": {
    "colab": {
     "base_uri": "https://localhost:8080/"
    },
    "id": "ee8e561e",
    "outputId": "8b0b6969-3b8b-483f-a73c-42a7cb7e079b"
   },
   "outputs": [
    {
     "name": "stdout",
     "output_type": "stream",
     "text": [
      "                          mean    median            std    min     max\n",
      "employment_type                                                       \n",
      "CT               113446.900000   75000.0  130176.746842   7500  416000\n",
      "FL                51807.800000   50000.0   29458.879336  12000  100000\n",
      "FT               138314.199570  135000.0   62452.177613   5132  450000\n",
      "PT                39533.705882   21669.0   38312.145181   5409  125404\n"
     ]
    }
   ],
   "source": [
    "# Group data by 'employment_type' and calculate summary statistics\n",
    "summary_stats = ds_salary_clean.groupby('employment_type')['salary_in_usd'].agg(['mean', 'median', 'std', 'min', 'max'])\n",
    "print(summary_stats)"
   ]
  },
  {
   "cell_type": "markdown",
   "id": "52485f67",
   "metadata": {
    "id": "52485f67"
   },
   "source": [
    "**Visualization:**"
   ]
  },
  {
   "cell_type": "code",
   "execution_count": 23,
   "id": "d0b756c0",
   "metadata": {
    "colab": {
     "base_uri": "https://localhost:8080/",
     "height": 564
    },
    "id": "d0b756c0",
    "outputId": "d594f3c0-630d-4be8-c9b1-54566c235a1d"
   },
   "outputs": [
    {
     "name": "stderr",
     "output_type": "stream",
     "text": [
      "/opt/anaconda3/lib/python3.11/site-packages/seaborn/_oldcore.py:1498: DeprecationWarning: is_categorical_dtype is deprecated and will be removed in a future version. Use isinstance(dtype, pd.CategoricalDtype) instead\n",
      "  if pd.api.types.is_categorical_dtype(vector):\n",
      "/opt/anaconda3/lib/python3.11/site-packages/seaborn/_oldcore.py:1498: DeprecationWarning: is_categorical_dtype is deprecated and will be removed in a future version. Use isinstance(dtype, pd.CategoricalDtype) instead\n",
      "  if pd.api.types.is_categorical_dtype(vector):\n",
      "/opt/anaconda3/lib/python3.11/site-packages/seaborn/_oldcore.py:1498: DeprecationWarning: is_categorical_dtype is deprecated and will be removed in a future version. Use isinstance(dtype, pd.CategoricalDtype) instead\n",
      "  if pd.api.types.is_categorical_dtype(vector):\n"
     ]
    },
    {
     "data": {
      "image/png": "[encoded data removed]",
      "text/plain": [
       "<Figure size 1000x600 with 1 Axes>"
      ]
     },
     "metadata": {},
     "output_type": "display_data"
    }
   ],
   "source": [
    "# Box Plot for salary and employment type\n",
    "plt.figure(figsize=(10, 6))\n",
    "sns.boxplot(data=ds_salary_clean, x='employment_type', y='salary_in_usd')\n",
    "\n",
    "plt.title('Salary by Employment Type')\n",
    "plt.xlabel('Employment Type')\n",
    "plt.ylabel('Salary in USD')\n",
    "plt.show()"
   ]
  },
  {
   "cell_type": "markdown",
   "id": "2ef79815",
   "metadata": {
    "id": "2ef79815"
   },
   "source": [
    "This box plot analysis aims to compare the **salary** ranges from different **employment types**, suggesting that there is a difference in financial growth potential for each category.\n",
    "\n",
    "* **Contract (CT):** Shows a high mean salary but also a large standard deviation, indicating a wide range of salaries. The maximum salary is substantial, suggesting good growth potential for high-skilled positions.\n",
    "\n",
    "* **Consulting (CL):** Has a lower mean salary compared to CT, with less variability. The growth potential may be moderate, with salaries mostly clustered around the median.\n",
    "\n",
    "* **Freelance (FL):** Exhibits the highest mean salary and maximum salary, indicating excellent growth potential, especially for top performers in their field.\n",
    "\n",
    "* **Part-Time (PT):** Has the lowest mean and maximum salaries, reflecting limited growth potential, likely due to fewer hours worked."
   ]
  },
  {
   "cell_type": "markdown",
   "id": "cfa03c42",
   "metadata": {
    "id": "cfa03c42"
   },
   "source": [
    "## Research Question"
   ]
  },
  {
   "cell_type": "markdown",
   "id": "f45ab814",
   "metadata": {
    "id": "f45ab814"
   },
   "source": [
    "An in-depth exploratory data analysis (EDA) enabled us to better comprehend and visualize our dataset. We began by evaluating a detailed dataset of employment categories, experience levels, job titles, work, company location, and salaries. By carefully researching and visualizing the data, we discovered trends in how salaries fluctuate across different categories. This helped us comprehend the complex structures of salary distribution.\n",
    "\n",
    "Our exploratory data analysis has led us to a key research question:  \n",
    "**What combinations of factors are most strongly associated with high salaries in the United States' job market?**\n",
    "\n",
    "This study aims to uncover the key determinants of high salaries in the data industry by identifying the most influential combinations of factors. It can help discover patterns and inequalities in wage structures, allowing businesses and employees to make more informed decisions about salary negotiations, career advancement, and talent retention. Furthermore, this research subject is timely in today's technological age, as data-driven decision-making is becoming increasingly important to corporate operations. As the demand for qualified data professionals grows, understanding the nuanced factors influencing wages becomes critical for businesses looking to recruit and retain the best employees. Similarly, findings from this research might help workers navigate their careers in the data business by informing strategic decisions about career routes and compensation expectations, ultimately leading to a more equal and competitive employment market."
   ]
  },
  {
   "cell_type": "markdown",
   "id": "5e741980-1684-4647-998a-38ead4e0a854",
   "metadata": {
    "id": "cfa03c42"
   },
   "source": [
    "## Data Modelling"
   ]
  },
  {
   "cell_type": "markdown",
   "id": "d14c0d7a-8c56-4ef3-aa36-7537e92dab42",
   "metadata": {
    "id": "cfa03c42"
   },
   "source": [
    "### A. Preprocessing"
   ]
  },
  {
   "cell_type": "markdown",
   "id": "9adae099-5d03-4121-9dc1-f9bc6aac997f",
   "metadata": {
    "id": "cfa03c42"
   },
   "source": [
    "#### Dropping all Non-US companies"
   ]
  },
  {
   "cell_type": "markdown",
   "id": "219ff3e8-10d5-4be0-92d1-cee42806293c",
   "metadata": {},
   "source": [
    "As the study focuses specifically in the information from the United States' job market, all records from non-US companies are dropped. The ISO 3166 code for the United States will be utilized for this step (US)."
   ]
  },
  {
   "cell_type": "code",
   "execution_count": 24,
   "id": "09cb9441-0b7e-40ed-9168-c695aa7b4c65",
   "metadata": {},
   "outputs": [
    {
     "data": {
      "text/plain": [
       "(3040, 8)"
      ]
     },
     "execution_count": 24,
     "metadata": {},
     "output_type": "execute_result"
    }
   ],
   "source": [
    "ds_us_salary_clean = ds_salary_clean[ds_salary_clean['company_location'] == 'US']\n",
    "ds_us_salary_clean.shape"
   ]
  },
  {
   "cell_type": "markdown",
   "id": "f899a99e-206c-4fe9-bc10-280e9f91ff8a",
   "metadata": {
    "id": "cfa03c42"
   },
   "source": [
    "#### B. Binning Salary Values"
   ]
  },
  {
   "cell_type": "markdown",
   "id": "43d040f2-d581-47e6-a910-f9b19dff88e0",
   "metadata": {},
   "source": [
    "As discovered from the Exploratory Data Analysis, the salaries found in the dataset is highly varied and specific. It is also observed that the salary distribution is moderately positively skewed. To better interpret results from the data modelling process while ensuring each category has a significant number of data points, these values will be categorized using the **Quantile Binning** technique into **five classes**: \n",
    "* **Very Low**\n",
    "* **Low**\n",
    "* **Moderate**\n",
    "* **High**\n",
    "* **Very High**\n",
    "\n"
   ]
  },
  {
   "cell_type": "code",
   "execution_count": 25,
   "id": "685a3bf1-8d2b-4841-9ec3-ff6e23754019",
   "metadata": {},
   "outputs": [
    {
     "name": "stdout",
     "output_type": "stream",
     "text": [
      "      salary_in_usd salary_bin\n",
      "3667           5679   Very Low\n",
      "3735          12000   Very Low\n",
      "2378          12000   Very Low\n",
      "3536          12000   Very Low\n",
      "2703          20000   Very Low\n",
      "...             ...        ...\n",
      "3463         405000  Very High\n",
      "3750         412000  Very High\n",
      "3675         416000  Very High\n",
      "3747         423000  Very High\n",
      "3522         450000  Very High\n",
      "\n",
      "[3040 rows x 2 columns]\n"
     ]
    }
   ],
   "source": [
    "ds_us_salary_clean = ds_us_salary_clean.copy()\n",
    "\n",
    "labels = ['Very Low', 'Low', 'Moderate', 'High', 'Very High']\n",
    "\n",
    "ds_us_salary_clean.loc[:, 'salary_bin'] = pd.qcut(ds_us_salary_clean['salary_in_usd'], q=5, labels=labels)\n",
    "\n",
    "print(ds_us_salary_clean.sort_values(by='salary_in_usd')[['salary_in_usd', 'salary_bin']])"
   ]
  },
  {
   "cell_type": "code",
   "execution_count": 26,
   "id": "e26fa6da-2c6c-42c6-ac2b-4875cd393772",
   "metadata": {},
   "outputs": [
    {
     "name": "stdout",
     "output_type": "stream",
     "text": [
      "Count of Very Low salaries: 609\n",
      "Count of Low salaries: 613\n",
      "Count of Moderate salaries: 602\n",
      "Count of High salaries: 613\n",
      "Count of Very High salaries: 603\n"
     ]
    }
   ],
   "source": [
    "very_low_count = ds_us_salary_clean[ds_us_salary_clean['salary_bin'] == 'Very Low'].shape[0]\n",
    "print(f\"Count of Very Low salaries: {very_low_count}\")\n",
    "\n",
    "low_count = ds_us_salary_clean[ds_us_salary_clean['salary_bin'] == 'Low'].shape[0]\n",
    "print(f\"Count of Low salaries: {low_count}\")\n",
    "\n",
    "moderate_count = ds_us_salary_clean[ds_us_salary_clean['salary_bin'] == 'Moderate'].shape[0]\n",
    "print(f\"Count of Moderate salaries: {moderate_count}\")\n",
    "\n",
    "high_count = ds_us_salary_clean[ds_us_salary_clean['salary_bin'] == 'High'].shape[0]\n",
    "print(f\"Count of High salaries: {high_count}\")\n",
    "\n",
    "very_high_count = ds_us_salary_clean[ds_us_salary_clean['salary_bin'] == 'Very High'].shape[0]\n",
    "print(f\"Count of Very High salaries: {very_high_count}\")"
   ]
  },
  {
   "cell_type": "code",
   "execution_count": 27,
   "id": "1b3c1eea-056d-47fa-b00a-9c073d20055d",
   "metadata": {},
   "outputs": [
    {
     "name": "stdout",
     "output_type": "stream",
     "text": [
      "         Bin      Lower     Middle      Upper\n",
      "0   Very Low    5679.00   82221.04  105500.00\n",
      "1        Low  105700.00  120783.53  134000.00\n",
      "2   Moderate  134024.00  145242.76  159699.00\n",
      "3       High  159832.00  175479.32  195000.00\n",
      "4  Very High  195400.00  236187.45  450000.00\n"
     ]
    }
   ],
   "source": [
    "bin_edges = ds_us_salary_clean['salary_bin'].cat.categories\n",
    "\n",
    "# Getting the upper, middle, and lower values for each bin\n",
    "bin_summary = []\n",
    "for bin in bin_edges:\n",
    "    bin_data = ds_us_salary_clean[ds_us_salary_clean['salary_bin'] == bin]['salary_in_usd']\n",
    "    lower = format(bin_data.min(), \".2f\")\n",
    "    upper = format(bin_data.max(), \".2f\")\n",
    "    middle = format(bin_data.mean(), \".2f\")\n",
    "    bin_summary.append({'Bin': bin, 'Lower': lower, 'Middle': middle, 'Upper': upper})\n",
    "\n",
    "bin_summary_df = pd.DataFrame(bin_summary)\n",
    "print(bin_summary_df)"
   ]
  },
  {
   "cell_type": "code",
   "execution_count": 28,
   "id": "ecce4717",
   "metadata": {},
   "outputs": [
    {
     "name": "stdout",
     "output_type": "stream",
     "text": [
      "Value counts for column 'work_year':\n",
      "work_year\n",
      "2023    1570\n",
      "2022    1339\n",
      "2021     100\n",
      "2020      31\n",
      "Name: count, dtype: int64\n",
      "\n",
      "Value counts for column 'experience_level':\n",
      "experience_level\n",
      "SE    2262\n",
      "MI     497\n",
      "EN     183\n",
      "EX      98\n",
      "Name: count, dtype: int64\n",
      "\n",
      "Value counts for column 'employment_type':\n",
      "employment_type\n",
      "FT    3022\n",
      "CT       8\n",
      "PT       6\n",
      "FL       4\n",
      "Name: count, dtype: int64\n",
      "\n",
      "Value counts for column 'job_title':\n",
      "job_title\n",
      "Data Engineer                        909\n",
      "Data Scientist                       679\n",
      "Data Analyst                         526\n",
      "Machine Learning Engineer            253\n",
      "Data Architect                        97\n",
      "                                    ... \n",
      "Data Science Tech Lead                 1\n",
      "Manager Data Management                1\n",
      "Applied Machine Learning Engineer      1\n",
      "BI Data Engineer                       1\n",
      "Cloud Data Engineer                    1\n",
      "Name: count, Length: 61, dtype: int64\n",
      "\n",
      "Value counts for column 'salary_in_usd':\n",
      "salary_in_usd\n",
      "150000    96\n",
      "100000    91\n",
      "120000    86\n",
      "160000    83\n",
      "130000    78\n",
      "          ..\n",
      "25216      1\n",
      "156000     1\n",
      "126100     1\n",
      "304000     1\n",
      "412000     1\n",
      "Name: count, Length: 672, dtype: int64\n",
      "\n",
      "Value counts for column 'remote_ratio':\n",
      "remote_ratio\n",
      "0      1669\n",
      "100    1331\n",
      "50       40\n",
      "Name: count, dtype: int64\n",
      "\n",
      "Value counts for column 'company_location':\n",
      "company_location\n",
      "US    3040\n",
      "Name: count, dtype: int64\n",
      "\n",
      "Value counts for column 'company_size':\n",
      "company_size\n",
      "M    2723\n",
      "L     263\n",
      "S      54\n",
      "Name: count, dtype: int64\n",
      "\n",
      "Value counts for column 'salary_bin':\n",
      "salary_bin\n",
      "Low          613\n",
      "High         613\n",
      "Very Low     609\n",
      "Very High    603\n",
      "Moderate     602\n",
      "Name: count, dtype: int64\n",
      "\n",
      "Total number of rows: 3040\n"
     ]
    }
   ],
   "source": [
    "for column in ds_us_salary_clean.columns:\n",
    "    print(f\"Value counts for column '{column}':\")\n",
    "    print(ds_us_salary_clean[column].value_counts())\n",
    "    print()  # Print a new line for better readability\n",
    "\n",
    "# Total row count of the entire DataFrame\n",
    "total_rows = len(ds_us_salary_clean)\n",
    "print(f\"Total number of rows: {total_rows}\")"
   ]
  },
  {
   "cell_type": "markdown",
   "id": "ac3b0639",
   "metadata": {},
   "source": [
    "#### B. Association Rules (salary_bin -> remote_ratio)"
   ]
  },
  {
   "cell_type": "code",
   "execution_count": 29,
   "id": "7c20f3ff",
   "metadata": {},
   "outputs": [
    {
     "name": "stdout",
     "output_type": "stream",
     "text": [
      "Count of each remote ratio value:\n",
      "remote_ratio\n",
      "0      1669\n",
      "100    1331\n",
      "50       40\n",
      "Name: count, dtype: int64\n"
     ]
    }
   ],
   "source": [
    "remote_ratio_counts = ds_us_salary_clean['remote_ratio'].value_counts()\n",
    "\n",
    "# Print the counts\n",
    "print(\"Count of each remote ratio value:\")\n",
    "print(remote_ratio_counts)"
   ]
  },
  {
   "cell_type": "markdown",
   "id": "9e3daeb1",
   "metadata": {},
   "source": [
    "Due to the **significant imbalance** in `remote_ratio` values—where `0` has **1669 samples**, `100` has **1331 samples**, and `50` has only **40 samples**—directly applying association rules to the relationship between `salary_bin` and `remote_ratio` can lead to **skewed results**. The **minority class** (`remote_ratio` 50) is underrepresented, which can distort the analysis.\n",
    "\n",
    "To address this issue, we will **balance the dataset** by using the median count of the `remote_ratio` values. This approach allows us to **equalize the representation** of all categories to a more balanced level. By applying median-based resampling, we aim to achieve **more accurate** and **reliable association rules**, ensuring that the insights derived from the analysis are **robust** and reflective of the true data patterns, without the distortions that could arise from extreme imbalance.\n"
   ]
  },
  {
   "cell_type": "code",
   "execution_count": 30,
   "id": "f56b67cc",
   "metadata": {},
   "outputs": [
    {
     "name": "stdout",
     "output_type": "stream",
     "text": [
      "Initial number of rules found: 7\n",
      "\n",
      "All association rules:\n",
      "              antecedents         consequents  antecedent support  consequent support   support  confidence      lift  leverage  conviction  zhangs_metric\n",
      "0   (salary_bin_Moderate)    (remote_ratio_0)            0.208866            0.333333  0.075131    0.359712  1.079137  0.005510    1.041199       0.092694\n",
      "1       (salary_bin_High)    (remote_ratio_0)            0.192086            0.333333  0.076133    0.396349  1.189048  0.012105    1.104392       0.196792\n",
      "2  (salary_bin_Very High)    (remote_ratio_0)            0.198848            0.333333  0.071124    0.357683  1.073048  0.004842    1.037908       0.084972\n",
      "3   (salary_bin_Very Low)   (remote_ratio_50)            0.214375            0.333333  0.097921    0.456776  1.370327  0.026463    1.227240       0.343990\n",
      "4        (salary_bin_Low)   (remote_ratio_50)            0.185825            0.333333  0.076384    0.411051  1.233154  0.014442    1.131960       0.232224\n",
      "5       (salary_bin_High)  (remote_ratio_100)            0.192086            0.333333  0.074130    0.385919  1.157757  0.010101    1.085633       0.168658\n",
      "6  (salary_bin_Very High)  (remote_ratio_100)            0.198848            0.333333  0.074881    0.376574  1.129723  0.008598    1.069360       0.143328\n"
     ]
    }
   ],
   "source": [
    "middle_value = int(remote_ratio_counts.median())\n",
    "\n",
    "df_majority_0 = ds_us_salary_clean[ds_us_salary_clean.remote_ratio == 0]\n",
    "df_majority_100 = ds_us_salary_clean[ds_us_salary_clean.remote_ratio == 100]\n",
    "df_minority_50 = ds_us_salary_clean[ds_us_salary_clean.remote_ratio == 50]\n",
    "\n",
    "df_majority_0_resampled = resample(df_majority_0, \n",
    "                                   replace=False,  \n",
    "                                   n_samples=middle_value,  \n",
    "                                   random_state=123)  \n",
    "\n",
    "df_majority_100_resampled = resample(df_majority_100, \n",
    "                                     replace=False,  \n",
    "                                     n_samples=middle_value,\n",
    "                                     random_state=123)\n",
    "\n",
    "df_minority_50_resampled = resample(df_minority_50, \n",
    "                                    replace=True,  \n",
    "                                    n_samples=middle_value,  \n",
    "                                    random_state=123) \n",
    "\n",
    "ds_us_salary_balanced = pd.concat([df_majority_0_resampled, df_majority_100_resampled, df_minority_50_resampled])\n",
    "\n",
    "# Binning salary and converting remote_ratio to categorical\n",
    "ds_us_salary_balanced['salary_bin'] = pd.qcut(ds_us_salary_balanced['salary_in_usd'], q=5, labels=['Very Low', 'Low', 'Moderate', 'High', 'Very High'])\n",
    "ds_us_salary_balanced['remote_ratio'] = ds_us_salary_balanced['remote_ratio'].astype('category')\n",
    "\n",
    "# One-hot encode remote_ratio and salary_bin\n",
    "one_hot = pd.get_dummies(ds_us_salary_balanced[['remote_ratio', 'salary_bin']])\n",
    "onehot = one_hot.astype(bool)\n",
    "\n",
    "min_support_value = 0.05\n",
    "min_threshold_value = 0.35\n",
    "\n",
    "frequent_itemsets = apriori(onehot, min_support=min_support_value, use_colnames=True)\n",
    "rules = association_rules(frequent_itemsets, metric=\"confidence\", min_threshold=min_threshold_value)\n",
    "top_rules = rules.sort_values('lift', ascending=False).head()\n",
    "\n",
    "pd.set_option('display.max_rows', None)\n",
    "print(\"Initial number of rules found:\", len(rules))\n",
    "if len(rules) > 0:\n",
    "    print(\"\\nAll association rules:\")\n",
    "    print(rules.to_string())\n"
   ]
  },
  {
   "cell_type": "code",
   "execution_count": 31,
   "id": "1a884c45",
   "metadata": {},
   "outputs": [
    {
     "data": {
      "image/png": "[encoded data removed]",
      "text/plain": [
       "<Figure size 1200x800 with 1 Axes>"
      ]
     },
     "metadata": {},
     "output_type": "display_data"
    }
   ],
   "source": [
    "sorted_rules = rules.sort_values('lift', ascending=False)\n",
    "\n",
    "plt.figure(figsize=(12, 8))\n",
    "plt.barh(range(len(sorted_rules)), sorted_rules['lift'], color='skyblue')\n",
    "rule_labels = [f'{list(x)[0]} -> {list(y)[0]}' for x, y in zip(sorted_rules['antecedents'], sorted_rules['consequents'])]\n",
    "\n",
    "plt.yticks(range(len(sorted_rules)), rule_labels)\n",
    "plt.xlabel('Lift')\n",
    "plt.title('Association Rules by Lift')\n",
    "plt.gca().invert_yaxis() \n",
    "plt.tight_layout()\n",
    "plt.show()"
   ]
  },
  {
   "cell_type": "markdown",
   "id": "6f23847c",
   "metadata": {},
   "source": [
    "The association rules reveal distinct patterns between salary bins and remote work preferences:\n",
    "\n",
    "- Individuals in the **`Moderate`** and **`High salary bins`** are more likely to have **`0% remote work`**, with confidence levels of **35.9%** and **39.6%**, respectively.\n",
    "- Those in the **`Very Low`** and **`Low salary bins`** are more inclined towards a **`hybrid setup`** (**`50% remote work`**), with confidence levels of **45.7%** and **41.1%**.\n",
    "- The **`High salary bin`** shows a notable association with **`100% remote work`**, having a confidence level of **38.6%**.\n",
    "- The **`Very High salary bin`** shows weaker associations with all remote work categories, with confidence levels ranging from **35.8%** to **37.7%**.\n",
    "\n",
    "Overall, the rules suggest that individuals with lower salaries are more likely to have a hybrid work setup, while those with higher salaries are more likely to have either no remote work or fully remote work.\n"
   ]
  },
  {
   "cell_type": "markdown",
   "id": "ae761440-dd82-4955-b8db-ae0570a2368a",
   "metadata": {},
   "source": [
    "#### C. Association Rules (salary_bin -> company_size)"
   ]
  },
  {
   "cell_type": "code",
   "execution_count": 32,
   "id": "a65065e8",
   "metadata": {},
   "outputs": [
    {
     "name": "stdout",
     "output_type": "stream",
     "text": [
      "company_size\n",
      "M    2518\n",
      "L    1191\n",
      "S     284\n",
      "Name: count, dtype: int64\n"
     ]
    }
   ],
   "source": [
    "company_size_counts = ds_us_salary_balanced['company_size'].value_counts()\n",
    "print(company_size_counts)\n"
   ]
  },
  {
   "cell_type": "markdown",
   "id": "c81ff6de",
   "metadata": {},
   "source": [
    "Since the distribution of **`company size`** is also skewed, we will apply the same balancing principle used for the **`remote ratio`**. This approach will help ensure **more accurate** and **reliable association rules** by correcting the imbalance in the data.\n"
   ]
  },
  {
   "cell_type": "code",
   "execution_count": 33,
   "id": "0c7f202a",
   "metadata": {},
   "outputs": [
    {
     "name": "stdout",
     "output_type": "stream",
     "text": [
      "Initial number of rules found: 8\n",
      "\n",
      "All association rules:\n",
      "              antecedents       consequents  antecedent support  consequent support   support  confidence      lift  leverage  conviction  zhangs_metric\n",
      "2   (salary_bin_Moderate)  (company_size_L)            0.157776            0.333333  0.086401    0.547619  1.642857  0.033809    1.473684       0.464608\n",
      "1        (salary_bin_Low)  (company_size_S)            0.249186            0.333333  0.131981    0.529648  1.588945  0.048919    1.417379       0.493666\n",
      "6  (salary_bin_Very High)  (company_size_L)            0.145755            0.333333  0.073128    0.501718  1.505155  0.024543    1.337931       0.392881\n",
      "7  (salary_bin_Very High)  (company_size_M)            0.145755            0.333333  0.068119    0.467354  1.402062  0.019534    1.251613       0.335694\n",
      "3   (salary_bin_Moderate)  (company_size_M)            0.157776            0.333333  0.070624    0.447619  1.342857  0.018032    1.206897       0.303149\n",
      "5       (salary_bin_High)  (company_size_S)            0.187077            0.333333  0.082645    0.441767  1.325301  0.020285    1.194245       0.301941\n",
      "4       (salary_bin_High)  (company_size_M)            0.187077            0.333333  0.082394    0.440428  1.321285  0.020035    1.191388       0.299120\n",
      "0   (salary_bin_Very Low)  (company_size_S)            0.260205            0.333333  0.113449    0.435996  1.307988  0.026713    1.182025       0.318287\n"
     ]
    }
   ],
   "source": [
    "\n",
    "middle_value = int(company_size_counts.mean())\n",
    "\n",
    "\n",
    "df_medium = ds_us_salary_balanced[ds_us_salary_balanced['company_size'] == 'M']\n",
    "df_large = ds_us_salary_balanced[ds_us_salary_balanced['company_size'] == 'L']\n",
    "df_small = ds_us_salary_balanced[ds_us_salary_balanced['company_size'] == 'S']\n",
    "\n",
    "df_medium_balanced = resample(df_medium,\n",
    "                              replace=True,\n",
    "                              n_samples=middle_value,\n",
    "                              random_state=123)\n",
    "\n",
    "df_large_balanced = resample(df_large,\n",
    "                             replace=True,\n",
    "                             n_samples=middle_value,\n",
    "                             random_state=123)\n",
    "\n",
    "df_small_balanced = resample(df_small,\n",
    "                             replace=True,\n",
    "                             n_samples=middle_value,\n",
    "                             random_state=123)\n",
    "\n",
    "ds_us_salary_balanced = pd.concat([df_medium_balanced, df_large_balanced, df_small_balanced])\n",
    "\n",
    "# One-hot encode salary_bin, remote_ratio, and company_size\n",
    "one_hot = pd.get_dummies(ds_us_salary_balanced[['salary_bin', 'company_size']])\n",
    "onehot = one_hot.astype(bool)\n",
    "\n",
    "min_support_value = 0.05\n",
    "min_threshold_value = 0.4\n",
    "\n",
    "frequent_itemsets = apriori(onehot, min_support=min_support_value, use_colnames=True)\n",
    "rules = association_rules(frequent_itemsets, metric=\"confidence\", min_threshold=min_threshold_value)\n",
    "\n",
    "print(\"Initial number of rules found:\", len(rules))\n",
    "if len(rules) > 0:\n",
    "    print(\"\\nAll association rules:\")\n",
    "    print(rules.sort_values('lift', ascending=False).to_string())"
   ]
  },
  {
   "cell_type": "code",
   "execution_count": 34,
   "id": "31fab996",
   "metadata": {},
   "outputs": [
    {
     "data": {
      "image/png": "[encoded data removed]",
      "text/plain": [
       "<Figure size 1200x800 with 1 Axes>"
      ]
     },
     "metadata": {},
     "output_type": "display_data"
    }
   ],
   "source": [
    "sorted_rules = rules.sort_values('lift', ascending=False)\n",
    "\n",
    "plt.figure(figsize=(12, 8))\n",
    "plt.barh(range(len(sorted_rules)), sorted_rules['lift'], color='skyblue')\n",
    "rule_labels = [f'{list(x)[0]} -> {list(y)[0]}' for x, y in zip(sorted_rules['antecedents'], sorted_rules['consequents'])]\n",
    "\n",
    "plt.yticks(range(len(sorted_rules)), rule_labels)\n",
    "plt.xlabel('Lift')\n",
    "plt.title('Association Rules by Lift')\n",
    "plt.gca().invert_yaxis() \n",
    "plt.tight_layout()\n",
    "plt.show()"
   ]
  },
  {
   "cell_type": "markdown",
   "id": "6ed6328a",
   "metadata": {},
   "source": [
    "The association rules reveal distinct patterns between salary bins and company sizes:\n",
    "\n",
    "- Individuals in the **`Moderate salary bin`** are most frequently associated with **`Large companies`**, with a confidence of **54.8%**. They are also linked to **`Medium companies`**, with a confidence of **44.8%**.\n",
    "- Employees in the **`Low salary bin`** are significantly more likely to work for **`Small companies`**, with a confidence of **52.9%**.\n",
    "- Those in the **`Very High salary bin`** show a notable association with **`Large companies`** and **`Medium companies`**, with confidence levels of **50.2%** and **46.7%**, respectively.\n",
    "- The **`High salary bin`** shows a tendency towards **`Small companies`** and **`Medium companies`**, with confidence levels of **44.2%** and **42.8%**, respectively.\n",
    "- Individuals in the **`Very Low salary bin`** are more likely to work for **`Small companies`**, with a confidence of **43.5%**.\n",
    "\n",
    "Overall, the rules suggest that lower salaries are more common in small companies, while moderate to very high salaries are more frequently found in medium to large companies.\n"
   ]
  },
  {
   "cell_type": "markdown",
   "id": "06c543bd-4e81-4391-ae10-b47ca717545b",
   "metadata": {},
   "source": [
    "#### D. Association Rules (salary_bin -> job_title)"
   ]
  },
  {
   "cell_type": "code",
   "execution_count": 37,
   "id": "543ee27f-c222-4da2-bfda-eb54aea86f5d",
   "metadata": {},
   "outputs": [
    {
     "name": "stdout",
     "output_type": "stream",
     "text": [
      "job_title\n",
      "Data Scientist                              792\n",
      "Data Analyst                                586\n",
      "Machine Learning Engineer                   527\n",
      "Data Engineer                               465\n",
      "Machine Learning Scientist                  252\n",
      "BI Data Analyst                             229\n",
      "Data Engineer Lead                          177\n",
      "Data Science Lead                           150\n",
      "Research Scientist                          141\n",
      "Analytics Engineer                          109\n",
      "Data Science Manager                         75\n",
      "Business Data Analyst                        70\n",
      "Applied Machine Learning Scientist           65\n",
      "Cloud Data Architect                         52\n",
      "Data Architect                               44\n",
      "Financial Data Analyst                       36\n",
      "Applied Scientist                            35\n",
      "Data Science Tech Lead                       27\n",
      "Data Analytics Manager                       13\n",
      "Computer Vision Engineer                     13\n",
      "AI Scientist                                 12\n",
      "Data Science Head                            10\n",
      "Data Analytics Consultant                    10\n",
      "Research Engineer                            10\n",
      "Data Operations Engineer                      8\n",
      "Data Science Consultant                       8\n",
      "BI Developer                                  7\n",
      "Computer Vision Software Engineer             6\n",
      "Data Analytics Engineer                       5\n",
      "Data Manager                                  5\n",
      "NLP Engineer                                  5\n",
      "Data Specialist                               4\n",
      "Data Infrastructure Engineer                  4\n",
      "Data Analyst Lead                             3\n",
      "Cloud Data Engineer                           3\n",
      "Data Operations Analyst                       3\n",
      "Cloud Database Engineer                       3\n",
      "MLOps Engineer                                3\n",
      "ETL Developer                                 3\n",
      "Machine Learning Infrastructure Engineer      3\n",
      "Business Intelligence Engineer                3\n",
      "Applied Data Scientist                        2\n",
      "Data Head                                     2\n",
      "Machine Learning Researcher                   2\n",
      "Data Science Director                         2\n",
      "Machine Learning Manager                      2\n",
      "Data Science Engineer                         2\n",
      "Machine Learning Developer                    1\n",
      "Data Lead                                     1\n",
      "Big Data Engineer                             1\n",
      "Manager Data Management                       1\n",
      "Deep Learning Engineer                        1\n",
      "Name: count, dtype: int64\n"
     ]
    }
   ],
   "source": [
    "job_title_counts = ds_us_salary_balanced['job_title'].value_counts()\n",
    "print(job_title_counts)"
   ]
  },
  {
   "cell_type": "markdown",
   "id": "f96ed9e2-5023-40c0-b080-369cb933f394",
   "metadata": {},
   "source": [
    "The high specificity of job titles becomes a problem as some titles are underrepresented with others overpowering the dataset. We address the skewed distribution of job titles by grouping similar roles and filtering out low-frequency entries. This preprocessing step balances the dataset, reducing bias and improving the reliability of our analysis."
   ]
  },
  {
   "cell_type": "code",
   "execution_count": 56,
   "id": "cce73d5e-db86-4951-806e-efdbd3214afa",
   "metadata": {},
   "outputs": [
    {
     "name": "stdout",
     "output_type": "stream",
     "text": [
      "Before filtering:\n",
      "job_category\n",
      "Analytics           1071\n",
      "Data Science        1070\n",
      "Machine Learning     865\n",
      "Data Engineering     752\n",
      "Research             186\n",
      "Specialized           27\n",
      "Data Operations       22\n",
      "Name: count, dtype: int64\n",
      "\n",
      "After filtering:\n",
      "job_category\n",
      "Analytics           1071\n",
      "Data Science        1070\n",
      "Machine Learning     865\n",
      "Data Engineering     752\n",
      "Research             186\n",
      "Name: count, dtype: int64\n",
      "\n",
      "Initial number of rules found: 4\n",
      "\n",
      "All association rules:\n",
      "                       antecedents                      consequents  antecedent support  consequent support   support  confidence      lift  leverage  conviction  zhangs_metric\n",
      "2                (salary_bin_High)  (job_category_Data Engineering)            0.188895            0.190669  0.080629    0.426846  2.238669  0.044612    1.412064       0.682163\n",
      "3  (job_category_Data Engineering)                (salary_bin_High)            0.190669            0.188895  0.080629    0.422872  2.238669  0.044612    1.405418       0.683659\n",
      "0            (salary_bin_Very Low)         (job_category_Analytics)            0.257606            0.271552  0.150862    0.585630  2.156605  0.080909    1.757965       0.722404\n",
      "1         (job_category_Analytics)            (salary_bin_Very Low)            0.271552            0.257606  0.150862    0.555556  2.156605  0.080909    1.670385       0.736234\n"
     ]
    }
   ],
   "source": [
    "grouped_job_titles = {\n",
    "    'Data Science': ['Data Scientist', 'Data Science Lead', 'Data Science Manager', 'Data Science Tech Lead', 'Data Science Head', 'Data Head', 'Data Science Consultant', 'Applied Data Scientist', 'Data Science Director', 'Data Science Engineer'],\n",
    "    'Data Engineering': ['Data Engineer', 'Data Engineer Lead', 'Cloud Data Architect', 'Cloud Database Engineer', 'Data Architect', 'Data Infrastructure Engineer', 'Cloud Data Engineer', 'ETL Developer', 'Big Data Engineer'],\n",
    "    'Machine Learning': ['Machine Learning Engineer', 'Machine Learning Scientist', 'Applied Machine Learning Scientist', 'AI Scientist', 'Machine Learning Infrastructure Engineer', 'Machine Learning Researcher', 'Machine Learning Manager', 'Machine Learning Developer', 'Deep Learning Engineer'],\n",
    "    'Analytics': ['Data Analyst', 'Data Analyst Lead', 'BI Data Analyst', 'Analytics Engineer', 'Business Data Analyst', 'Financial Data Analyst', 'Data Analytics Manager', 'Data Analytics Consultant', 'Data Analytics Engineer', 'BI Developer', 'Business Intelligence Engineer'],\n",
    "    'Research': ['Research Scientist', 'Research Engineer', 'Applied Scientist'],\n",
    "    'Specialized': ['Computer Vision Engineer', 'Computer Vision Software Engineer', 'NLP Engineer', 'MLOps Engineer'],\n",
    "    'Data Operations': ['Data Operations Engineer', 'Data Operations Analyst', 'Data Manager', 'Data Specialist', 'Data Lead', 'Manager Data Management']\n",
    "}\n",
    "\n",
    "ds_us_salary_balanced['job_category'] = ds_us_salary_balanced['job_title'].map({title: category for category, titles in grouped_job_titles.items() for title in titles})\n",
    "\n",
    "print(\"Before filtering:\")\n",
    "print(ds_us_salary_balanced['job_category'].value_counts())\n",
    "\n",
    "# frequency-based filtering\n",
    "min_threshold = 100\n",
    "ds_us_salary_balanced_filtered = ds_us_salary_balanced[ds_us_salary_balanced.groupby('job_category')['job_title'].transform('count') >= min_threshold] \n",
    "\n",
    "print()\n",
    "print(\"After filtering:\")\n",
    "print(ds_us_salary_balanced_filtered['job_category'].value_counts())\n",
    "\n",
    "# One-hot encode salary_bin and job_category\n",
    "one_hot = pd.get_dummies(ds_us_salary_balanced_filtered[['salary_bin', 'job_category']])\n",
    "onehot = one_hot.astype(bool)\n",
    "\n",
    "min_support_value = 0.05\n",
    "min_threshold_value = 0.4\n",
    "\n",
    "frequent_itemsets = apriori(onehot, min_support=min_support_value, use_colnames=True)\n",
    "rules = association_rules(frequent_itemsets, metric=\"confidence\", min_threshold=min_threshold_value)\n",
    "\n",
    "print()\n",
    "print(\"Initial number of rules found:\", len(rules))\n",
    "if len(rules) > 0:\n",
    "    print(\"\\nAll association rules:\")\n",
    "    print(rules.sort_values('lift', ascending=False).to_string())\n"
   ]
  },
  {
   "cell_type": "code",
   "execution_count": 54,
   "id": "d0e78ce0-eaff-41f6-902f-148e859fb4ac",
   "metadata": {},
   "outputs": [
    {
     "data": {
      "image/png": "[encoded data removed]",
      "text/plain": [
       "<Figure size 1200x800 with 1 Axes>"
      ]
     },
     "metadata": {},
     "output_type": "display_data"
    }
   ],
   "source": [
    "sorted_rules = rules.sort_values('lift', ascending=False)\n",
    "\n",
    "plt.figure(figsize=(12, 8))\n",
    "plt.barh(range(len(sorted_rules)), sorted_rules['lift'], color='skyblue')\n",
    "rule_labels = [f'{list(x)[0]} -> {list(y)[0]}' for x, y in zip(sorted_rules['antecedents'], sorted_rules['consequents'])]\n",
    "\n",
    "plt.yticks(range(len(sorted_rules)), rule_labels)\n",
    "plt.xlabel('Lift')\n",
    "plt.title('Association Rules by Lift')\n",
    "plt.gca().invert_yaxis() \n",
    "plt.tight_layout()\n",
    "plt.show()"
   ]
  },
  {
   "cell_type": "markdown",
   "id": "14f079d4-c1c6-4bcb-b990-fcc80e846432",
   "metadata": {},
   "source": [
    "After applying association rule mining to the dataset's job categories and salaries, we discovered useful information on the patterns between salary levels and job categories. \n",
    "\n",
    "- Individuals in the **`High salary bin`** are most usually linked with **`Data Engineering`**, with a confidence level of **`42.7%`**. **`Data Engineering`** positions are likewise associated with **`High salary`**, with a confidence level of **`42.3%`**.\n",
    "\n",
    "- Employees in the **`Very Low salary bin`** are substantially more likely to work in **`Analytics`**, with a confidence level of **`58.6%`**. **`Analytics`** roles are also associated with **`Very Low salary`**, with a confidence level of **`55.6%`**.\n",
    "\n",
    "The bidirectional nature of the association rules indicate the relatively strong mutual relationship between High salary and Data Engineering jobs and a stronger mutual relationship between Very Low salary and Analytics jobs. Overall, the criteria indicate that high pay are more common in data engineering professions, but very low salaries are more frequent in analytics roles."
   ]
  },
  {
   "cell_type": "markdown",
   "id": "af32c37c",
   "metadata": {},
   "source": [
    "## Statistical Inference"
   ]
  },
  {
   "cell_type": "markdown",
   "id": "862295af",
   "metadata": {},
   "source": [
    "### Hypothesis Testing"
   ]
  },
  {
   "cell_type": "markdown",
   "id": "8b9f8c2b",
   "metadata": {},
   "source": [
    "1. Formulating Hypotheses\n",
    "- **Null Hypothesis (\\(H_0\\))**: There is no significant difference in the average salaries across different job titles in the data science domain.\n",
    "- **Alternative Hypothesis (\\(H_1\\))**: There is a significant difference in the average salaries across different job titles in the data science domain.\n",
    "- **Significance Level**: 0.05"
   ]
  },
  {
   "cell_type": "markdown",
   "id": "1a67d5ee",
   "metadata": {},
   "source": [
    "2. Perform pre-processing to check for the normality of the distribution and if the variances are equal."
   ]
  },
  {
   "cell_type": "code",
   "execution_count": 35,
   "id": "62e5d565",
   "metadata": {},
   "outputs": [
    {
     "name": "stdout",
     "output_type": "stream",
     "text": [
      "Normality Test Results (Shapiro-Wilk Test):\n",
      "Job Title: Machine Learning Engineer, Shapiro-Wilk Test Statistic: 0.9680585861206055, p-value: 1.9453656932455488e-05\n",
      "Job Title: Applied Scientist, Shapiro-Wilk Test Statistic: 0.9523046612739563, p-value: 0.023236731067299843\n",
      "Job Title: Data Scientist, Shapiro-Wilk Test Statistic: 0.9692162275314331, p-value: 9.493852926034663e-11\n",
      "Job Title: Data Analyst, Shapiro-Wilk Test Statistic: 0.9587337970733643, p-value: 5.668180508289211e-11\n",
      "Job Title: Data Modeler, Shapiro-Wilk Test Statistic: Insufficient data, p-value: Insufficient data\n",
      "Job Title: Business Intelligence Engineer, Shapiro-Wilk Test Statistic: 0.9891149401664734, p-value: 0.9528908133506775\n",
      "Job Title: Data Engineer, Shapiro-Wilk Test Statistic: 0.9730939865112305, p-value: 6.437868467490393e-12\n",
      "Job Title: Computer Vision Engineer, Shapiro-Wilk Test Statistic: 0.95975661277771, p-value: 0.7803489565849304\n",
      "Job Title: Research Engineer, Shapiro-Wilk Test Statistic: 0.9366337060928345, p-value: 0.06662167608737946\n",
      "Job Title: Data Architect, Shapiro-Wilk Test Statistic: 0.9298151731491089, p-value: 6.282593676587567e-05\n",
      "Job Title: Analytics Engineer, Shapiro-Wilk Test Statistic: 0.9818970561027527, p-value: 0.23139512538909912\n",
      "Job Title: Research Scientist, Shapiro-Wilk Test Statistic: 0.8960208296775818, p-value: 0.00012239646457601339\n",
      "Job Title: Data Analytics Manager, Shapiro-Wilk Test Statistic: 0.8899809122085571, p-value: 0.022479364648461342\n",
      "Job Title: Business Data Analyst, Shapiro-Wilk Test Statistic: 0.9226657152175903, p-value: 0.4903857409954071\n",
      "Job Title: Data Head, Shapiro-Wilk Test Statistic: 0.9634689688682556, p-value: 0.8460357785224915\n",
      "Job Title: Data Quality Analyst, Shapiro-Wilk Test Statistic: 0.8863279819488525, p-value: 0.2993929386138916\n",
      "Job Title: AI Developer, Shapiro-Wilk Test Statistic: Insufficient data, p-value: Insufficient data\n",
      "Job Title: Data Science Manager, Shapiro-Wilk Test Statistic: 0.9642371535301208, p-value: 0.1194952130317688\n",
      "Job Title: Data Manager, Shapiro-Wilk Test Statistic: 0.9706853628158569, p-value: 0.6839346289634705\n",
      "Job Title: Data Specialist, Shapiro-Wilk Test Statistic: 0.9198616743087769, p-value: 0.218889519572258\n",
      "Job Title: Data Analyst Lead, Shapiro-Wilk Test Statistic: 0.8839923739433289, p-value: 0.3362210712928606\n",
      "Job Title: BI Data Engineer, Shapiro-Wilk Test Statistic: Insufficient data, p-value: Insufficient data\n",
      "Job Title: Data Science Director, Shapiro-Wilk Test Statistic: 0.8377244472503662, p-value: 0.18885017931461334\n",
      "Job Title: Machine Learning Scientist, Shapiro-Wilk Test Statistic: 0.9278801083564758, p-value: 0.12481614202260971\n",
      "Job Title: MLOps Engineer, Shapiro-Wilk Test Statistic: 0.728634238243103, p-value: 0.02385682798922062\n",
      "Job Title: Cloud Database Engineer, Shapiro-Wilk Test Statistic: 0.9876134395599365, p-value: 0.9706845283508301\n",
      "Job Title: Applied Machine Learning Scientist, Shapiro-Wilk Test Statistic: 0.7455226182937622, p-value: 0.007287366781383753\n",
      "Job Title: Financial Data Analyst, Shapiro-Wilk Test Statistic: 0.9972528219223022, p-value: 0.8998516423159084\n",
      "Job Title: Data Infrastructure Engineer, Shapiro-Wilk Test Statistic: 0.8100625276565552, p-value: 0.07225470244884491\n",
      "Job Title: Data Operations Engineer, Shapiro-Wilk Test Statistic: 0.8406290411949158, p-value: 0.044896602630615234\n",
      "Job Title: BI Developer, Shapiro-Wilk Test Statistic: 0.8882949352264404, p-value: 0.09245596826076508\n",
      "Job Title: Data Science Lead, Shapiro-Wilk Test Statistic: 0.881389319896698, p-value: 0.16238702833652496\n",
      "Job Title: BI Data Analyst, Shapiro-Wilk Test Statistic: 0.9700086116790771, p-value: 0.9108944535255432\n",
      "Job Title: Data Science Consultant, Shapiro-Wilk Test Statistic: 0.9294333457946777, p-value: 0.29960566759109497\n",
      "Job Title: Data Analytics Specialist, Shapiro-Wilk Test Statistic: Insufficient data, p-value: Insufficient data\n",
      "Job Title: Machine Learning Infrastructure Engineer, Shapiro-Wilk Test Statistic: 0.9235233068466187, p-value: 0.49725794792175293\n",
      "Job Title: Applied Machine Learning Engineer, Shapiro-Wilk Test Statistic: Insufficient data, p-value: Insufficient data\n",
      "Job Title: Deep Learning Engineer, Shapiro-Wilk Test Statistic: 0.8603792190551758, p-value: 0.2615739703178406\n",
      "Job Title: Data Science Head, Shapiro-Wilk Test Statistic: 0.9799120426177979, p-value: 0.9341475367546082\n",
      "Job Title: Data Lead, Shapiro-Wilk Test Statistic: Insufficient data, p-value: Insufficient data\n",
      "Job Title: Data Science Engineer, Shapiro-Wilk Test Statistic: Insufficient data, p-value: Insufficient data\n",
      "Job Title: NLP Engineer, Shapiro-Wilk Test Statistic: 0.9817090034484863, p-value: 0.943551778793335\n",
      "Job Title: Manager Data Management, Shapiro-Wilk Test Statistic: Insufficient data, p-value: Insufficient data\n",
      "Job Title: Product Data Analyst, Shapiro-Wilk Test Statistic: Insufficient data, p-value: Insufficient data\n",
      "Job Title: Machine Learning Researcher, Shapiro-Wilk Test Statistic: 0.8603792190551758, p-value: 0.2615739703178406\n",
      "Job Title: Data Analytics Consultant, Shapiro-Wilk Test Statistic: Insufficient data, p-value: Insufficient data\n",
      "Job Title: Data Science Tech Lead, Shapiro-Wilk Test Statistic: Insufficient data, p-value: Insufficient data\n",
      "Job Title: Data Operations Analyst, Shapiro-Wilk Test Statistic: 0.9628092050552368, p-value: 0.7965742945671082\n",
      "Job Title: Machine Learning Manager, Shapiro-Wilk Test Statistic: Insufficient data, p-value: Insufficient data\n",
      "Job Title: Data Analytics Engineer, Shapiro-Wilk Test Statistic: Insufficient data, p-value: Insufficient data\n",
      "Job Title: ETL Developer, Shapiro-Wilk Test Statistic: 0.7972516417503357, p-value: 0.026748714968562126\n",
      "Job Title: AI Scientist, Shapiro-Wilk Test Statistic: 0.8092120885848999, p-value: 0.050465650856494904\n",
      "Job Title: Data Scientist Lead, Shapiro-Wilk Test Statistic: Insufficient data, p-value: Insufficient data\n",
      "Job Title: Cloud Data Architect, Shapiro-Wilk Test Statistic: Insufficient data, p-value: Insufficient data\n",
      "Job Title: Machine Learning Developer, Shapiro-Wilk Test Statistic: Insufficient data, p-value: Insufficient data\n",
      "Job Title: Applied Data Scientist, Shapiro-Wilk Test Statistic: 0.8166754245758057, p-value: 0.15496295119836934\n",
      "Job Title: Data Analytics Lead, Shapiro-Wilk Test Statistic: Insufficient data, p-value: Insufficient data\n",
      "Job Title: Big Data Engineer, Shapiro-Wilk Test Statistic: Insufficient data, p-value: Insufficient data\n",
      "Job Title: Computer Vision Software Engineer, Shapiro-Wilk Test Statistic: Insufficient data, p-value: Insufficient data\n",
      "Job Title: Data Engineer Lead, Shapiro-Wilk Test Statistic: 0.9990091323852539, p-value: 0.9398714207411807\n",
      "Job Title: Cloud Data Engineer, Shapiro-Wilk Test Statistic: Insufficient data, p-value: Insufficient data\n",
      "\n",
      "Homogeneity of Variances Test (Levene's Test):\n",
      "Levene Test Statistic: 3.3690, p-value: 0.0000\n"
     ]
    }
   ],
   "source": [
    "# Get unique job titles\n",
    "job_titles = ds_us_salary_clean['job_title'].unique()\n",
    "\n",
    "# Check normality using the Shapiro-Wilk test\n",
    "normality_results = {}\n",
    "for title in job_titles:\n",
    "    salaries = ds_us_salary_clean[ds_us_salary_clean['job_title'] == title]['salary_in_usd']\n",
    "    if len(salaries) >= 3:\n",
    "        stat, p_value = shapiro(salaries)\n",
    "        normality_results[title] = (stat, p_value)\n",
    "    else:\n",
    "        normality_results[title] = ('Insufficient data', 'Insufficient data')\n",
    "\n",
    "# Display normality results\n",
    "print(\"Normality Test Results (Shapiro-Wilk Test):\")\n",
    "for title, result in normality_results.items():\n",
    "    print(f'Job Title: {title}, Shapiro-Wilk Test Statistic: {result[0]}, p-value: {result[1]}')\n",
    "\n",
    "# Check Homogeneity of Variances using Levene's test\n",
    "salary_data = [ds_us_salary_clean[ds_us_salary_clean['job_title'] == title]['salary_in_usd'] for title in job_titles if len(ds_us_salary_clean[ds_us_salary_clean['job_title'] == title]) >= 3]\n",
    "\n",
    "if len(salary_data) > 1:\n",
    "    stat, p_value = levene(*salary_data)\n",
    "\n",
    "    # Display homogeneity results\n",
    "    print(f'\\nHomogeneity of Variances Test (Levene\\'s Test):')\n",
    "    print(f'Levene Test Statistic: {stat:.4f}, p-value: {p_value:.4f}')\n",
    "else:\n",
    "    print(\"\\nNot enough groups with sufficient data for Levene's test.\")\n"
   ]
  },
  {
   "cell_type": "markdown",
   "id": "483d3689",
   "metadata": {},
   "source": [
    "* Based on the results it seems that some job titles are not normally distributed and the variances are unequal if the p-values are less than 0.05."
   ]
  },
  {
   "cell_type": "markdown",
   "id": "6db2e8a6",
   "metadata": {},
   "source": [
    "3. Perform Welch ANOVA Test and Kruskal-Wallis H Test"
   ]
  },
  {
   "cell_type": "code",
   "execution_count": 36,
   "id": "2bb58633",
   "metadata": {},
   "outputs": [
    {
     "name": "stdout",
     "output_type": "stream",
     "text": [
      "\n",
      "Welch ANOVA Test:\n",
      "      Source  ddof1     ddof2          F         p-unc       np2\n",
      "0  job_title     60  77.98622  10.981487  5.415243e-21  0.180432\n",
      "\n",
      "Kruskal-Wallis H Test:\n",
      "Statistic: 532.0965, p-value: 0.0000\n"
     ]
    }
   ],
   "source": [
    "# Perform Welch ANOVA test\n",
    "if len(salary_data) > 1:\n",
    "    welch_anova = pg.welch_anova(data=ds_us_salary_clean, dv='salary_in_usd', between='job_title')\n",
    "    print(\"\\nWelch ANOVA Test:\")\n",
    "    print(welch_anova)\n",
    "else:\n",
    "    print(\"Not enough groups with sufficient data for Welch ANOVA test.\")\n",
    "    \n",
    "# Perform Kruskal-Wallis H test\n",
    "if len(salary_data) > 1:\n",
    "    stat, p_value = kruskal(*salary_data)\n",
    "    print(f'\\nKruskal-Wallis H Test:')\n",
    "    print(f'Statistic: {stat:.4f}, p-value: {p_value:.4f}')\n",
    "else:\n",
    "    print(\"Not enough groups with sufficient data for Kruskal-Wallis H test.\")"
   ]
  },
  {
   "cell_type": "markdown",
   "id": "2fbe1181",
   "metadata": {},
   "source": [
    "4. Evaluating Results\n",
    "\n",
    "* Rejecting the Null Hypothesis: Given that p-values for both the Welch ANOVA Test and Kruskal-Wallis H Test is significantly less than the significance level: 0.05 , we reject the null hypothesis.\n",
    "* There are significant differences in the average salaries across different job titles in the data. This implies that job title has a substantial impact on salary within the dataset."
   ]
  }
 ],
 "metadata": {
  "colab": {
   "provenance": []
  },
  "kernelspec": {
   "display_name": "Python 3 (ipykernel)",
   "language": "python",
   "name": "python3"
  },
  "language_info": {
   "codemirror_mode": {
    "name": "ipython",
    "version": 3
   },
   "file_extension": ".py",
   "mimetype": "text/x-python",
   "name": "python",
   "nbconvert_exporter": "python",
   "pygments_lexer": "ipython3",
   "version": "3.11.7"
  }
 },
 "nbformat": 4,
 "nbformat_minor": 5
}
